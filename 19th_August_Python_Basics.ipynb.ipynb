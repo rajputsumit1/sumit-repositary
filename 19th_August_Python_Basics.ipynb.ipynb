{
 "cells": [
  {
   "cell_type": "markdown",
   "id": "8933cacb-6b61-4986-ba26-b980e69bbeac",
   "metadata": {},
   "source": [
    "# Python Basics Problems"
   ]
  },
  {
   "cell_type": "markdown",
   "id": "e6e44d25-8ebb-47ef-8646-4747468f8ac4",
   "metadata": {},
   "source": [
    "#### 1. Declare two variables,'x' and 'y', and assign them integer values. swap the values of these variable without using any temporary variable."
   ]
  },
  {
   "cell_type": "code",
   "execution_count": 5,
   "id": "fca866d7-760e-44d8-80b0-2e291ec0e6bc",
   "metadata": {},
   "outputs": [
    {
     "name": "stdout",
     "output_type": "stream",
     "text": [
      "before swapping x is 5\n",
      "before swapping y is 10\n",
      "after swapping x is 10\n",
      "after swapping y is 5\n"
     ]
    }
   ],
   "source": [
    "# declaring & assigning value in two variable\n",
    "x = 5\n",
    "y = 10\n",
    "# printing x,y before swapping\n",
    "print(\"before swapping x is\",x)\n",
    "print(\"before swapping y is\",y)\n",
    "# swapping without using any temporary variable\n",
    "x = x+y\n",
    "y = x-y\n",
    "x = x-y\n",
    "# printing the swapped values of x,y after swapping\n",
    "print(\"after swapping x is\",x)\n",
    "print(\"after swapping y is\",y)"
   ]
  },
  {
   "cell_type": "markdown",
   "id": "a509cb61-245b-439f-8043-a631073855e5",
   "metadata": {},
   "source": [
    "#### 2. Create a program that calculates the area of a rectangle. Take the length and width from user & display the area.a."
   ]
  },
  {
   "cell_type": "code",
   "execution_count": 16,
   "id": "09725678-fb60-4e84-b186-5efdaa772c54",
   "metadata": {},
   "outputs": [
    {
     "name": "stdin",
     "output_type": "stream",
     "text": [
      "enter length of rectangle 5\n",
      "enter width of rectangle 7\n"
     ]
    },
    {
     "name": "stdout",
     "output_type": "stream",
     "text": [
      "area of rectangle is 35\n"
     ]
    }
   ],
   "source": [
    "# taking length from user \n",
    "length = int(input(\"enter length of rectangle\"))\n",
    "# taking width from user\n",
    "width = int(input(\"enter width of rectangle\"))\n",
    "# calculating area of reactangle using formula \"area = length * width\"\n",
    "# assigning area of rectangle in area variable\n",
    "area = length * width\n",
    "# printing area of rectangle\n",
    "print(\"area of rectangle is\",area)"
   ]
  },
  {
   "cell_type": "markdown",
   "id": "022703b5-5289-4eb4-9847-23784ea9fe4d",
   "metadata": {},
   "source": [
    "#### 3. Write a Python program that converts temperatures from Celsius to Fahrenheit. Take the temperature in Celsius as input, store it in a variable, convert it to Fahrenheit, and display the result."
   ]
  },
  {
   "cell_type": "code",
   "execution_count": 18,
   "id": "f7e097b1-d6fe-4bed-99a9-2c47afe8e613",
   "metadata": {},
   "outputs": [
    {
     "name": "stdin",
     "output_type": "stream",
     "text": [
      "enter temperature in celcius 37\n"
     ]
    },
    {
     "name": "stdout",
     "output_type": "stream",
     "text": [
      "temprature in celcius is 37\n",
      "temprature in fahrenheit is 98.6\n"
     ]
    }
   ],
   "source": [
    "# taking temperature in celcius from user \n",
    "# storing input in celc variable\n",
    "celc = int(input(\"enter temperature in celcius\"))\n",
    "print(\"temprature in celcius is\",celc)\n",
    "# coverting celcius to fahrenhiet from celcius using fromula \"fahrenheit = (celcius*9/5)+32\"\n",
    "fehr = (celc*9/5)+32\n",
    "# printing temperature in fahrenheit \n",
    "print(\"temprature in fahrenheit is\",fehr)"
   ]
  },
  {
   "cell_type": "markdown",
   "id": "e9247bca-af65-432a-8ea7-aba4766e77a6",
   "metadata": {},
   "source": [
    "# String Problems"
   ]
  },
  {
   "cell_type": "markdown",
   "id": "fbbaf149-d0b7-41c2-b8f8-c25e8ba4e5f8",
   "metadata": {},
   "source": [
    "#### 4. Write a Python program that takes a string as input and prints the length of \n",
    "th  string."
   ]
  },
  {
   "cell_type": "code",
   "execution_count": null,
   "id": "ae4c8d7a-f460-4358-a4d0-d40c3860e485",
   "metadata": {},
   "outputs": [],
   "source": [
    "# taking input from user as a string\n",
    "string = input(\"input string:- \")\n",
    "print(\"string you inputed is :- \",string)\n",
    "# for finding length we use len() method\n",
    "string_length = len(string)\n",
    "# printing length of string \n",
    "print('the length of string is:- ', string_length)"
   ]
  },
  {
   "cell_type": "markdown",
   "id": "750a9f1f-73d0-445d-a842-884f04fad9ce",
   "metadata": {},
   "source": [
    "#### 5. Create a program that takes a sentence from the user and counts the number of vowels (a, e, i, o, u) in the string."
   ]
  },
  {
   "cell_type": "code",
   "execution_count": 22,
   "id": "6a0de632-ec09-44ba-b2f4-4c46966c60dd",
   "metadata": {},
   "outputs": [
    {
     "name": "stdin",
     "output_type": "stream",
     "text": [
      "enter your sentence:-  iuyrtbsdoimsdcnjhewoi YREYU TRF hguksya \n"
     ]
    },
    {
     "name": "stdout",
     "output_type": "stream",
     "text": [
      "the sentences you have input is :- iuyrtbsdoimsdcnjhewoi YREYU TRF hguksya \n",
      "no. of vowels in sentences is:-  11\n"
     ]
    }
   ],
   "source": [
    "# taking input from user asa sentence & assigning in sent variable\n",
    "sent = input(\"enter your sentence:- \")\n",
    "print(\"the sentences you have input is :-\",sent)\n",
    "# initialise count variable to count the number of vowels in sentence\n",
    "count=0\n",
    "for i in sent:\n",
    "    if i in \"aeiouAEIOU\":\n",
    "        count = count+1\n",
    "# printing number of vowels in sentence        \n",
    "print(\"no. of vowels in sentences is:- \",count)       "
   ]
  },
  {
   "cell_type": "markdown",
   "id": "cbcbe4ad-3a50-4321-8149-779fcfef0c4c",
   "metadata": {},
   "source": [
    "#### 6. Given a string, reverse the order of characters using string slicing and print the reversed string."
   ]
  },
  {
   "cell_type": "code",
   "execution_count": 24,
   "id": "f0b958c3-05e5-4de7-b074-a2f01557a301",
   "metadata": {},
   "outputs": [
    {
     "name": "stdin",
     "output_type": "stream",
     "text": [
      "enter your string:- hello myself sumit\n"
     ]
    },
    {
     "name": "stdout",
     "output_type": "stream",
     "text": [
      "string you inputed is :-  hello myself sumit\n",
      "reversed string is :- timus flesym olleh\n"
     ]
    }
   ],
   "source": [
    "# taking string from user \n",
    "string = input(\"enter your string:-\")\n",
    "print(\"string you inputed is :- \",string)\n",
    "# using string slicing \"string[start:stop:steps]\"\n",
    "# reversing reversed string \n",
    "rev_string = string[::-1]\n",
    "# printing reversed string\n",
    "print(\"reversed string is :-\",rev_string)"
   ]
  },
  {
   "cell_type": "markdown",
   "id": "f067fe0c-6aad-4f5a-9653-506bb2a01437",
   "metadata": {},
   "source": [
    "#### 7. Write a program that takes a string as input and checks if it is a palindrome ( if it reads the same forwards and backwards)."
   ]
  },
  {
   "cell_type": "code",
   "execution_count": 25,
   "id": "63cb290c-c4a1-40c1-bdd3-02ac5b764229",
   "metadata": {},
   "outputs": [
    {
     "name": "stdin",
     "output_type": "stream",
     "text": [
      "enter your string:- naman\n"
     ]
    },
    {
     "name": "stdout",
     "output_type": "stream",
     "text": [
      "string you inputed is :-  naman\n",
      "string you have inputed is palindrome & string is:- naman\n"
     ]
    }
   ],
   "source": [
    "# taking string from user \n",
    "string = input(\"enter your string:-\")\n",
    "print(\"string you inputed is :- \",string)\n",
    "# using string slicing \"string[start:stop:steps]\"\n",
    "# reversing reversed string \n",
    "rev_string = string[::-1]\n",
    "# a string is palindrome if reverse of string is same as same\n",
    "# it is a palindrome if it reads the same forwards and backwards\n",
    "# comparing reveerse of string with original string\n",
    "if(string == rev_string):\n",
    "    print(\"string you have inputed is palindrome & string is:-\",string)\n",
    "else:\n",
    "    print(\"string is not palindrome\")"
   ]
  },
  {
   "cell_type": "markdown",
   "id": "7b1f62e8-d562-48ac-8751-399c623830b1",
   "metadata": {},
   "source": [
    "#### 8. Create a program that takes a string as input and removes all the spaces from it. Print the modified string without spaces.."
   ]
  },
  {
   "cell_type": "code",
   "execution_count": 32,
   "id": "ba6e0700-1144-4195-a6e9-5f6eb446818f",
   "metadata": {},
   "outputs": [
    {
     "name": "stdin",
     "output_type": "stream",
     "text": [
      "enter your string:-  hello it is sumit  .\n"
     ]
    },
    {
     "name": "stdout",
     "output_type": "stream",
     "text": [
      "string you inputed is :-  hello it is sumit  .\n",
      "modified string without spaces is:- helloitissumit.\n"
     ]
    }
   ],
   "source": [
    "# taking string from user \n",
    "string = input(\"enter your string:-\")\n",
    "print(\"string you inputed is :-\",string)\n",
    "#removing all spaces from string\n",
    "for i in string:\n",
    "    if(i==\" \"):\n",
    "        modified_string = string.replace(\" \",\"\")\n",
    "# in above loop i iterate all character & check if character is space then it replace with empty string having no character \n",
    "#it is loop so it iterate aal characters & remove all spaces\n",
    "print(\"modified string without spaces is:-\",modified_string)"
   ]
  }
 ],
 "metadata": {
  "kernelspec": {
   "display_name": "Python 3 (ipykernel)",
   "language": "python",
   "name": "python3"
  },
  "language_info": {
   "codemirror_mode": {
    "name": "ipython",
    "version": 3
   },
   "file_extension": ".py",
   "mimetype": "text/x-python",
   "name": "python",
   "nbconvert_exporter": "python",
   "pygments_lexer": "ipython3",
   "version": "3.12.1"
  }
 },
 "nbformat": 4,
 "nbformat_minor": 5
}
