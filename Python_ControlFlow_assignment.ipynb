{
 "cells": [
  {
   "cell_type": "markdown",
   "id": "b9458d21-1981-47b2-b234-0b65ebd2e5e4",
   "metadata": {},
   "source": [
    "# LEVEL 1"
   ]
  },
  {
   "cell_type": "markdown",
   "id": "9e635c8c-7fb7-4117-ab01-59b684a0e735",
   "metadata": {},
   "source": [
    "### 1. Write a Python program to check if a given number is positive or negative."
   ]
  },
  {
   "cell_type": "code",
   "execution_count": 1,
   "id": "dd4347e2-085a-4a17-9c78-51db097cef26",
   "metadata": {},
   "outputs": [
    {
     "name": "stdout",
     "output_type": "stream",
     "text": [
      "-1 is negative\n"
     ]
    }
   ],
   "source": [
    "num = -1\n",
    "if num == 0:\n",
    "     print(f\"{num} is zero\")\n",
    "elif num>0:\n",
    "    print(f\"{num} is positive\")\n",
    "else :\n",
    "    print(f\"{num} is negative\")"
   ]
  },
  {
   "cell_type": "markdown",
   "id": "46781130-5eb5-4e7e-8471-3dfd85f99d4b",
   "metadata": {},
   "source": [
    "### 2. Create a program that determines if a person is eligible to vote based on their age."
   ]
  },
  {
   "cell_type": "code",
   "execution_count": 11,
   "id": "f24b9be7-a5c5-4c14-a24e-4c0cb35ac8c6",
   "metadata": {},
   "outputs": [
    {
     "name": "stdout",
     "output_type": "stream",
     "text": [
      "person is not eligible to vote\n"
     ]
    }
   ],
   "source": [
    "age = 17\n",
    "if age <=0:\n",
    "    print(\"enter valid age\")\n",
    "elif age >=18:\n",
    "    print(\"person is eligible to vote\")\n",
    "else:\n",
    "    print(\"person is not eligible to vote\")"
   ]
  },
  {
   "cell_type": "markdown",
   "id": "ad2f43c4-85e7-4d2e-ac4d-d8b85460a4ad",
   "metadata": {},
   "source": [
    "### 3. Develop a program to find the maximum of two numbers using if-else statements."
   ]
  },
  {
   "cell_type": "code",
   "execution_count": 13,
   "id": "57b38e4c-ba6c-44ac-afe9-66a170dd10be",
   "metadata": {},
   "outputs": [
    {
     "name": "stdout",
     "output_type": "stream",
     "text": [
      "45 is greater than 36\n"
     ]
    }
   ],
   "source": [
    "a = 45\n",
    "b =36\n",
    "if a==b:\n",
    "    print(f\"{a} is eqaul to {b}\")\n",
    "elif a>b:\n",
    "    print(f\"{a} is greater than {b}\")\n",
    "else:\n",
    "    print(f\"{a} is less than {b}\")"
   ]
  },
  {
   "cell_type": "markdown",
   "id": "abd8960c-8e6c-47e8-a313-1b1ede775580",
   "metadata": {},
   "source": [
    "### 4. Write a Python script to classify a given year as a leap year or not."
   ]
  },
  {
   "cell_type": "code",
   "execution_count": 15,
   "id": "75d97e6c-29a0-403e-bb2a-a2c17f7ffca8",
   "metadata": {},
   "outputs": [
    {
     "name": "stdout",
     "output_type": "stream",
     "text": [
      "1724 is leap year\n"
     ]
    }
   ],
   "source": [
    "year = 1724\n",
    "if year%100 == 0:\n",
    "    if year % 400 == 0:\n",
    "        print(f\"{year} is leap year\")\n",
    "    else:\n",
    "        print(f\"{year} is not leap year\")\n",
    "else:\n",
    "    if year%4==0:\n",
    "        print(f\"{year} is leap year\")\n",
    "    else:\n",
    "        print(f\"{year} is not leap year\")"
   ]
  },
  {
   "cell_type": "markdown",
   "id": "3ebe4a77-3f76-481f-b054-196736a56ec7",
   "metadata": {},
   "source": [
    "### 5. Create a program that checks whether a character is a vowel or a consonant."
   ]
  },
  {
   "cell_type": "code",
   "execution_count": 21,
   "id": "02c8c45e-a9b3-447b-a424-eb06ab11d437",
   "metadata": {},
   "outputs": [
    {
     "name": "stdout",
     "output_type": "stream",
     "text": [
      "s is consonent\n"
     ]
    }
   ],
   "source": [
    "character = 's'\n",
    "if character.isalpha():\n",
    "    if character  in \"AEIOUaeiou\":\n",
    "        print(f\"{character} is vowel\")\n",
    "    else:\n",
    "         print(f\"{character} is consonent\")\n",
    "else:\n",
    "    print(f\"{character} is neither vowel nor consonent. It is other character.\")"
   ]
  },
  {
   "cell_type": "markdown",
   "id": "1780c720-7c27-4e9e-b679-87422bd52df9",
   "metadata": {},
   "source": [
    "### 6. Implement a program to determine whether a given number is even or odd."
   ]
  },
  {
   "cell_type": "code",
   "execution_count": 22,
   "id": "738ebb21-f39c-45ad-bb04-3a0043873179",
   "metadata": {},
   "outputs": [
    {
     "name": "stdout",
     "output_type": "stream",
     "text": [
      "6 is even\n"
     ]
    }
   ],
   "source": [
    "num = 6\n",
    "if num%2== 0:\n",
    "    print(f\"{num} is even\")\n",
    "else:\n",
    "    print(f\"{num} is odd\")"
   ]
  },
  {
   "cell_type": "markdown",
   "id": "0cd797c6-01f3-4e2c-ad59-b0e1a284da0f",
   "metadata": {},
   "source": [
    "### 7. Write a Python function to calculate the absolute value of a number without using the `abs()` function."
   ]
  },
  {
   "cell_type": "code",
   "execution_count": 24,
   "id": "2a9e917c-f5c5-4d40-977e-9479555fc5e1",
   "metadata": {},
   "outputs": [
    {
     "name": "stdout",
     "output_type": "stream",
     "text": [
      "absolute value of -34 is:- 34\n"
     ]
    }
   ],
   "source": [
    "num = -34\n",
    "if num<0:\n",
    "    print(f\"absolute value of {num} is:- {-num}\")\n",
    "else:\n",
    "    print(f\"absolute value of {num} is:- {num}\")"
   ]
  },
  {
   "cell_type": "markdown",
   "id": "aa4050b6-d752-47d8-a36d-19ac7832488e",
   "metadata": {},
   "source": [
    "### 8. Develop a program that determines the largest of three given numbers using if-else statements."
   ]
  },
  {
   "cell_type": "code",
   "execution_count": 28,
   "id": "bf700f0b-9934-4356-a8e6-768b498665da",
   "metadata": {},
   "outputs": [
    {
     "name": "stdout",
     "output_type": "stream",
     "text": [
      "18 is greater than 12 and 10\n"
     ]
    }
   ],
   "source": [
    "a = 18\n",
    "b = 12\n",
    "c = 10\n",
    "if(a>b and a>c):\n",
    "    print(f\"{a} is greater than {b} and {c}\")\n",
    "elif(b>a and b>c):\n",
    "    print(f\"{b} is greater than {a} and {c}\")\n",
    "else :\n",
    "    print(f\"{c} is greater than {a} and {b}\")"
   ]
  },
  {
   "cell_type": "markdown",
   "id": "4bacdce5-fc34-4d21-9bc4-ec0c19874d12",
   "metadata": {},
   "source": [
    "### 9. Create a program that checks if a given string is a palindrome."
   ]
  },
  {
   "cell_type": "code",
   "execution_count": 33,
   "id": "9bc2f240-a8e2-4545-909b-c0b175e9a6fd",
   "metadata": {},
   "outputs": [
    {
     "name": "stdout",
     "output_type": "stream",
     "text": [
      "asdfdsa is palindrome\n"
     ]
    }
   ],
   "source": [
    "strr = \"asdfdsa\"\n",
    "if strr == strr[::-1]:\n",
    "    print(f\"{strr} is palindrome\")\n",
    "else:\n",
    "    print(f\"{strr} is not palindrome\")"
   ]
  },
  {
   "cell_type": "markdown",
   "id": "4531f2be-8378-4706-bb2b-3d21f89be09e",
   "metadata": {},
   "source": [
    "### 10. Write a Python program to calculate the grade based on a student's score."
   ]
  },
  {
   "cell_type": "code",
   "execution_count": 1,
   "id": "9a0f2648-375b-4202-a078-fb85ac106691",
   "metadata": {},
   "outputs": [
    {
     "name": "stdout",
     "output_type": "stream",
     "text": [
      "The student's grade is: A\n"
     ]
    }
   ],
   "source": [
    "score = 78\n",
    "\n",
    "if 90 <= score <= 100:\n",
    "        grade = 'o'\n",
    "elif 80 <= score < 90:\n",
    "        grade = 'A+'\n",
    "elif 70 <= score < 80:\n",
    "        grade = 'A'\n",
    "elif 60 <= score < 70:\n",
    "        grade = 'B+'\n",
    "elif 50 <= score < 60:\n",
    "        grade = 'B'\n",
    "elif 40 <= score < 50:\n",
    "        grade = 'c'\n",
    "elif 0 <= score < 40:\n",
    "        grade = 'F'\n",
    "else:\n",
    "        print(\"Invalid score. Please enter a score between 0 and 100.\")\n",
    "        exit()\n",
    "\n",
    "print(f\"The student's grade is: {grade}\")  \n",
    "\n",
    "\n"
   ]
  },
  {
   "cell_type": "markdown",
   "id": "15b2c02c-3a79-4d4e-ab58-61e1d60e537a",
   "metadata": {},
   "source": [
    "### 11. Write a program to find the largest among three numbers using nested if-else statements."
   ]
  },
  {
   "cell_type": "code",
   "execution_count": 2,
   "id": "db06807e-d111-4b3b-88f7-4fa76eb469f8",
   "metadata": {},
   "outputs": [
    {
     "name": "stdout",
     "output_type": "stream",
     "text": [
      "The largest number among 18, 19, and 15 is: 19\n"
     ]
    }
   ],
   "source": [
    "num1 = 18\n",
    "num2 = 19\n",
    "num3 = 15\n",
    "\n",
    "if num1 >= num2:\n",
    "    if num1 >= num3:\n",
    "        largest = num1\n",
    "    else:\n",
    "        largest = num3\n",
    "else:\n",
    "    if num2 >= num3:\n",
    "        largest = num2\n",
    "    else:\n",
    "        largest = num3\n",
    "\n",
    "print(f\"The largest number among {num1}, {num2}, and {num3} is: {largest}\")\n"
   ]
  },
  {
   "cell_type": "markdown",
   "id": "8fe751e6-7ded-4315-9507-2a0567585e7d",
   "metadata": {},
   "source": [
    "### 12. Implement a program to determine if a triangle is equilateral, isosceles, or scalene."
   ]
  },
  {
   "cell_type": "code",
   "execution_count": 12,
   "id": "34601c05-0b0d-4906-8d6a-613daf0d2015",
   "metadata": {},
   "outputs": [
    {
     "name": "stdout",
     "output_type": "stream",
     "text": [
      "it is scalene\n"
     ]
    }
   ],
   "source": [
    "side1 = 3\n",
    "side2 = 7\n",
    "side3 = 9\n",
    "if (side1 == side2 or side2 == side3 or side1==side3):\n",
    "    if (side1 == side2 and side2 == side3 and side1 == side3):\n",
    "        print(\"it is equilateral\")\n",
    "    else:\n",
    "        print(\"it is isosceles\")\n",
    "else:\n",
    "    print(\"it is scalene\")\n"
   ]
  },
  {
   "cell_type": "markdown",
   "id": "311dd9f6-8241-434d-8cee-3c7b698bc763",
   "metadata": {},
   "source": [
    "### 13. Develop a program that checks if a year is a leap year and also if it is a century year."
   ]
  },
  {
   "cell_type": "code",
   "execution_count": 14,
   "id": "dec1b122-1221-4b5b-8d75-b0d51ca1e52b",
   "metadata": {},
   "outputs": [
    {
     "name": "stdout",
     "output_type": "stream",
     "text": [
      "1700 is a century year\n",
      "1700 is not leap year\n"
     ]
    }
   ],
   "source": [
    "year = 1700\n",
    "if year%100 == 0:\n",
    "    print(f\"{year} is a century year\")\n",
    "    if year % 400 == 0:\n",
    "        print(f\"{year} is leap year\")\n",
    "    else:\n",
    "        print(f\"{year} is not leap year\")\n",
    "else:\n",
    "    if year%4==0:\n",
    "        print(f\"{year} is leap year\")\n",
    "    else:\n",
    "        print(f\"{year} is not leap year\")"
   ]
  },
  {
   "cell_type": "markdown",
   "id": "ae84bb98-c7bf-468c-b197-dca9c670d575",
   "metadata": {},
   "source": [
    "### 14. Write a Python script to determine if a number is positive, negative, or zero."
   ]
  },
  {
   "cell_type": "code",
   "execution_count": 25,
   "id": "439d5bec-a2ec-403d-9bd2-635d9374b75a",
   "metadata": {},
   "outputs": [
    {
     "name": "stdout",
     "output_type": "stream",
     "text": [
      "0 is zero\n"
     ]
    }
   ],
   "source": [
    "num = 0\n",
    "if num >= 0:\n",
    "    if num==0:\n",
    "        print(f\"{num} is zero\")\n",
    "    else:\n",
    "        print(f\"{num} is positive\")\n",
    "else :\n",
    "    print(f\"{num} is negative\")"
   ]
  },
  {
   "cell_type": "markdown",
   "id": "1de6e3e2-6631-449f-902c-6a49daec290d",
   "metadata": {},
   "source": [
    "### 15. Create a program to check if a person is a teenager (between 13 and 19 years old)."
   ]
  },
  {
   "cell_type": "code",
   "execution_count": 35,
   "id": "64cb0526-2135-4b61-bbd4-a6bd4546e6ca",
   "metadata": {},
   "outputs": [
    {
     "name": "stdout",
     "output_type": "stream",
     "text": [
      "The person is a teenager.\n"
     ]
    }
   ],
   "source": [
    "age = 15\n",
    "if age>0:\n",
    "    if 13 <= age:\n",
    "            if age<= 19:\n",
    "                print(\"The person is a teenager.\")\n",
    "            else:\n",
    "                print(\"The person is not a teenager.\")\n",
    "    else:\n",
    "        print(\"The person is not a teenager.\")\n",
    "else:\n",
    "    print(\"invalid age\")"
   ]
  },
  {
   "cell_type": "markdown",
   "id": "9928b146-767c-45ab-8b20-15993c26b2fb",
   "metadata": {},
   "source": [
    "### 16. Develop a program that determines the type of angle based on its measure (acute, obtuse, or right)."
   ]
  },
  {
   "cell_type": "code",
   "execution_count": 39,
   "id": "6d4e115f-6e56-4d3a-8370-565fc617f9b8",
   "metadata": {},
   "outputs": [
    {
     "name": "stdout",
     "output_type": "stream",
     "text": [
      "-120 is obtuse angle\n"
     ]
    }
   ],
   "source": [
    "angle =  -120\n",
    "if 0<=abs(angle)<90:\n",
    "    print(f\"{angle} is acute angle\")\n",
    "elif abs(angle) == 90:\n",
    "    print(f\"{angle} is right angle\")\n",
    "elif 90<abs(angle)<180:\n",
    "     print(f\"{angle} is obtuse angle\")"
   ]
  },
  {
   "cell_type": "markdown",
   "id": "7e844035-3cd7-4a67-a0e7-4a792c88d49b",
   "metadata": {},
   "source": [
    "### 17. Write a Python program to calculate the roots of a quadratic equation."
   ]
  },
  {
   "cell_type": "code",
   "execution_count": 63,
   "id": "e9c752db-dfad-44b9-ae29-c9cc9a52b162",
   "metadata": {},
   "outputs": [
    {
     "name": "stdout",
     "output_type": "stream",
     "text": [
      "first rooot is 2.0\n",
      "first rooot is 2.0\n"
     ]
    }
   ],
   "source": [
    "# y =a*(x**2) + b*x + c    This is the formal quadratic eqaution\n",
    "a = 1    # coefficient of x**2\n",
    "b = -4   # coefficient of x\n",
    "c = 4  # coefficient of x**0\n",
    "d = (b**2-4*a*c)  # discreminent of exqutaions\n",
    "if d>=0:\n",
    "    root1 = (-b+d**0.5)/(2*a)\n",
    "    print(f\"first rooot is {root1}\")\n",
    "    root2 = (-b-d**0.5)/(2*a)\n",
    "    print(f\"first rooot is {root2}\")\n",
    "else:\n",
    "    real_part = -b / (2*a)\n",
    "    imaginary_part = abs(d)**0.5 / (2*a)\n",
    "    root1 = complex(real_part, imaginary_part)\n",
    "    root2 = complex(real_part, -imaginary_part)\n",
    "    print(\"root are imaginary\")"
   ]
  },
  {
   "cell_type": "markdown",
   "id": "14c60a4a-3342-4068-89a2-6b2dc70df5e9",
   "metadata": {},
   "source": [
    "### 18. Implement a program to determine the day of the week based on a user-provided number (1 for Monday, 2 for Tuesday, etc.)."
   ]
  },
  {
   "cell_type": "code",
   "execution_count": 10,
   "id": "fdda62fb-a862-45da-8b95-85732ec1703a",
   "metadata": {},
   "outputs": [
    {
     "name": "stdout",
     "output_type": "stream",
     "text": [
      "sunday\n"
     ]
    }
   ],
   "source": [
    "day_num = 7\n",
    "if 0<day_num<=7:\n",
    "    match(day_num):\n",
    "        case 1:print(\"monday\")\n",
    "        case 2:print(\"tuesday\")\n",
    "        case 3:print(\"wednesday\")\n",
    "        case 4:print(\"thursday\")\n",
    "        case 5:print(\"friday\")\n",
    "        case 6:print(\"saturday\")\n",
    "        case 7:print(\"sunday\")\n",
    "else:\n",
    "    print(\"enter valid number between 1 & 7\")"
   ]
  },
  {
   "cell_type": "markdown",
   "id": "0d1da100-8486-4461-887f-385b0f6bd667",
   "metadata": {},
   "source": [
    "### 19. Create a program that determines if a year is a leap year and also if it is evenly divisible by 400."
   ]
  },
  {
   "cell_type": "code",
   "execution_count": 13,
   "id": "a3a04949-0544-4786-8efe-1fbfbe885e9f",
   "metadata": {},
   "outputs": [
    {
     "name": "stdout",
     "output_type": "stream",
     "text": [
      "1600 is a leap year.\n",
      "1600 is evenly divisible by 400.\n"
     ]
    }
   ],
   "source": [
    "year_input = 1600\n",
    "\n",
    "if (year_input % 4 == 0 and year_input % 100 != 0) or (year_input % 400 == 0):\n",
    "    print(f\"{year_input} is a leap year.\")\n",
    "    if year_input % 400 == 0:\n",
    "        print(f\"{year_input} is evenly divisible by 400.\")\n",
    "else:\n",
    "    print(f\"{year_input} is not a leap year.\")\n"
   ]
  },
  {
   "cell_type": "markdown",
   "id": "f48b7287-a58f-4d8a-bc50-852560451a2d",
   "metadata": {},
   "source": [
    "### 20. Develop a program that checks if a given number is prime or not using nested if-else statements."
   ]
  },
  {
   "cell_type": "code",
   "execution_count": 15,
   "id": "6fd131f8-b9ef-4fbf-9afa-faeebf21f8c4",
   "metadata": {},
   "outputs": [
    {
     "name": "stdout",
     "output_type": "stream",
     "text": [
      "17 is a prime number.\n"
     ]
    }
   ],
   "source": [
    "num = 17\n",
    "\n",
    "if num > 1:\n",
    "    for i in range(2, int(num ** 0.5) + 1):\n",
    "        if num % i == 0:\n",
    "            print(f\"{num} is not a prime number.\")\n",
    "            print(f\"It is divisible by {i}.\")\n",
    "            break\n",
    "    else:\n",
    "        print(f\"{num} is a prime number.\")\n",
    "else:\n",
    "    print(f\"{num} is not a prime number.\")\n"
   ]
  },
  {
   "cell_type": "markdown",
   "id": "7da07b49-3f5e-404e-a42b-29f7b3050e67",
   "metadata": {},
   "source": [
    "### 21. Write a Python program to assign grades based on different ranges of scores using elif statements."
   ]
  },
  {
   "cell_type": "code",
   "execution_count": 16,
   "id": "a1aee56a-c8a6-4c5f-9f5e-75aa5d1723c1",
   "metadata": {},
   "outputs": [
    {
     "name": "stdout",
     "output_type": "stream",
     "text": [
      "The student's grade is: A\n"
     ]
    }
   ],
   "source": [
    "score = 78\n",
    "\n",
    "if 90 <= score <= 100:\n",
    "        grade = 'o'\n",
    "elif 80 <= score < 90:\n",
    "        grade = 'A+'\n",
    "elif 70 <= score < 80:\n",
    "        grade = 'A'\n",
    "elif 60 <= score < 70:\n",
    "        grade = 'B+'\n",
    "elif 50 <= score < 60:\n",
    "        grade = 'B'\n",
    "elif 40 <= score < 50:\n",
    "        grade = 'c'\n",
    "elif 0 <= score < 40:\n",
    "        grade = 'F'\n",
    "else:\n",
    "        print(\"Invalid score. Please enter a score between 0 and 100.\")\n",
    "        exit()\n",
    "\n",
    "print(f\"The student's grade is: {grade}\")  \n"
   ]
  },
  {
   "cell_type": "markdown",
   "id": "70bb1cf2-cfd7-4776-83de-bb3c4317d3d0",
   "metadata": {},
   "source": [
    "### 22. Implement a program to determine the type of a triangle based on its angles."
   ]
  },
  {
   "cell_type": "code",
   "execution_count": 17,
   "id": "61a1df4a-9b27-4f50-816d-e17e506761e0",
   "metadata": {},
   "outputs": [
    {
     "name": "stdout",
     "output_type": "stream",
     "text": [
      "-120 is obtuse angled triangle\n"
     ]
    }
   ],
   "source": [
    "angle =  -120\n",
    "if 0<=abs(angle)<90:\n",
    "    print(f\"{angle} is acute angled triangle\")\n",
    "elif abs(angle) == 90:\n",
    "    print(f\"{angle} is right angled triangle\")\n",
    "elif 90<abs(angle)<180:\n",
    "     print(f\"{angle} is obtuse angled triangle\")"
   ]
  },
  {
   "cell_type": "markdown",
   "id": "e49f894b-aef2-43d4-87d9-df1665ca76d6",
   "metadata": {},
   "source": [
    "### 23. Develop a program to categorize a given person's BMI into underweight, normal, overweight, or obese using elif statements."
   ]
  },
  {
   "cell_type": "code",
   "execution_count": 20,
   "id": "e6278623-06b5-49db-8c9d-101f034e2546",
   "metadata": {},
   "outputs": [
    {
     "name": "stdout",
     "output_type": "stream",
     "text": [
      "Your BMI is: 18.826793499801823\n",
      "BMI Category: Normal weight\n"
     ]
    }
   ],
   "source": [
    "weight = 57         # in kg\n",
    "height = 1.74       # in meter\n",
    "\n",
    "bmi = weight / (height ** 2)\n",
    "\n",
    "if bmi < 18.5:\n",
    "    category = \"Underweight\"\n",
    "elif 18.5 <= bmi < 24.9:\n",
    "    category = \"Normal weight\"\n",
    "elif 25 <= bmi < 29.9:\n",
    "    category = \"Overweight\"\n",
    "else:\n",
    "    category = \"Obese\"\n",
    "\n",
    "print(\"Your BMI is:\", bmi)\n",
    "print(\"BMI Category:\", category)\n"
   ]
  },
  {
   "cell_type": "markdown",
   "id": "80ef0422-5abd-4916-9271-08ea3444435b",
   "metadata": {},
   "source": [
    "### 24. Create a program that determines whether a given number is positive, negative, or zero using elif statements."
   ]
  },
  {
   "cell_type": "code",
   "execution_count": 21,
   "id": "c0060659-604a-49a3-a715-8f47ccc3f1a3",
   "metadata": {},
   "outputs": [
    {
     "name": "stdout",
     "output_type": "stream",
     "text": [
      "The given number is positive.\n"
     ]
    }
   ],
   "source": [
    "number = 67\n",
    "\n",
    "if number > 0:\n",
    "    print(\"The given number is positive.\")\n",
    "elif number < 0:\n",
    "    print(\"The given number is negative.\")\n",
    "else:\n",
    "    print(\"The given number is zero.\")\n"
   ]
  },
  {
   "cell_type": "markdown",
   "id": "93b05edf-33b4-4cc2-9cf1-f8d7df9d8912",
   "metadata": {},
   "source": [
    "### 25. Write a Python script to determine the type of a character (uppercase, lowercase, or special) using elif statements."
   ]
  },
  {
   "cell_type": "code",
   "execution_count": 23,
   "id": "bfefcbf1-5955-4a84-a9a5-6c3e604d9f0b",
   "metadata": {},
   "outputs": [
    {
     "name": "stdout",
     "output_type": "stream",
     "text": [
      "The character is lowercase.\n"
     ]
    }
   ],
   "source": [
    "character = \"g\"\n",
    "\n",
    "if character.isalpha():\n",
    "    if character.isupper():\n",
    "        print(\"The character is uppercase.\")\n",
    "    elif character.islower():\n",
    "        print(\"The character is lowercase.\")\n",
    "else:\n",
    "    print(\"The character is special.\")\n"
   ]
  },
  {
   "cell_type": "markdown",
   "id": "a6a7e415-83bc-40b7-bbd5-cf4f96bee112",
   "metadata": {},
   "source": [
    "### 26. Implement a program to calculate the discounted price based on different purchase amounts using elif statements."
   ]
  },
  {
   "cell_type": "code",
   "execution_count": 25,
   "id": "ac3dfd98-083c-4940-beeb-09eae922274f",
   "metadata": {},
   "outputs": [
    {
     "name": "stdout",
     "output_type": "stream",
     "text": [
      "Original price: 5000.00\n",
      "Discount rate: 10%\n",
      "Discounted price: 4500.00\n"
     ]
    }
   ],
   "source": [
    "purchase_amount = 5000\n",
    "\n",
    "if purchase_amount < 1000:\n",
    "    discount_rate = 0\n",
    "elif 1000 <= purchase_amount < 5000:\n",
    "    discount_rate = 0.05  # 5% discount for amounts between 1000 and 4999.99\n",
    "elif 5000 <= purchase_amount < 10000:\n",
    "    discount_rate = 0.1  # 10% discount for amounts between 5000 and 9999.99\n",
    "else:\n",
    "    discount_rate = 0.15  # 15% discount for amounts of 1000 or more\n",
    "\n",
    "discounted_price = purchase_amount - (purchase_amount * discount_rate)\n",
    "\n",
    "print(f\"Original price: {purchase_amount:.2f}\")\n",
    "print(f\"Discount rate: {discount_rate * 100:.0f}%\")\n",
    "print(f\"Discounted price: {discounted_price:.2f}\")\n"
   ]
  },
  {
   "cell_type": "markdown",
   "id": "c6094357-7b83-4e9b-aef0-2b48b31da7a0",
   "metadata": {},
   "source": [
    "### 27. Develop a program to calculate the electricity bill based on different consumption slabs using elif statements."
   ]
  },
  {
   "cell_type": "code",
   "execution_count": 27,
   "id": "1c804811-4734-40ee-a2b1-d69053c96af7",
   "metadata": {},
   "outputs": [
    {
     "name": "stdout",
     "output_type": "stream",
     "text": [
      "Electricity consumption: 345 kWh\n",
      "Electricity bill: $281.25\n"
     ]
    }
   ],
   "source": [
    "consumption_units =  345    #in kilowatt-hours\n",
    "\n",
    "rate_slab1 = 0.5  \n",
    "rate_slab2 = 0.75\n",
    "rate_slab3 = 1.00  \n",
    "rate_slab4 = 1.25  \n",
    "\n",
    "if consumption_units <= 100:\n",
    "    bill = consumption_units * rate_slab1\n",
    "elif 100 < consumption_units <= 200:\n",
    "    bill = 100 * rate_slab1 + (consumption_units - 100) * rate_slab2\n",
    "elif 200 < consumption_units <= 300:\n",
    "    bill = 100 * rate_slab1 + 100 * rate_slab2 + (consumption_units - 200) * rate_slab3\n",
    "else:\n",
    "    bill = 100 * rate_slab1 + 100 * rate_slab2 + 100 * rate_slab3 + (consumption_units - 300) * rate_slab4\n",
    "\n",
    "print(f\"Electricity consumption: {consumption_units} kWh\")\n",
    "print(f\"Electricity bill: ${bill:.2f}\")\n"
   ]
  },
  {
   "cell_type": "markdown",
   "id": "1d1a56d8-2902-4758-8a96-7080c6a2bdd0",
   "metadata": {},
   "source": [
    "### 28. Create a program to determine the type of quadrilateral based on its angles and sides using elif statements."
   ]
  },
  {
   "cell_type": "code",
   "execution_count": 36,
   "id": "0318bf8d-c942-4fca-9f63-6837091579c3",
   "metadata": {},
   "outputs": [
    {
     "name": "stdout",
     "output_type": "stream",
     "text": [
      "it is parallelogram\n"
     ]
    }
   ],
   "source": [
    "angle1 = 100\n",
    "angle2 = 80\n",
    "angle3 = 100\n",
    "angle4 = 80\n",
    "# assuming a1 is adjacent to a2 is adjacent to a3 is adjacent to a4\n",
    "side1 = 5\n",
    "side2 = 8\n",
    "side3 = 5\n",
    "side4 = 8\n",
    "# assuming s1 is adjacent to s2 is adjacent to s3 is adjacent to s4\n",
    "if angle1+angle2+angle3+angle4 != 360:\n",
    "    print(\"invalid quadrilateral dimensions & angles\")\n",
    "else:\n",
    "    if angle1 == angle2 == angle3 == angle4 == 90:\n",
    "        if side1==side2==side3==side4:\n",
    "            print(\"it is a square\")\n",
    "        elif (side1==side3 and side2==side4):\n",
    "            print(\"it is rectangle\")\n",
    "    elif (angle1==angle3 and angle2==angle4):\n",
    "        if(side1==side2==side3==side4):\n",
    "            print(\"it is rombus\")\n",
    "        elif(side1==side3 and side2==side4):\n",
    "            print(\"it is parallelogram\")\n",
    "    elif side1==side3 or side2==side4:\n",
    "        print(\"it is trapezoid\")\n",
    "    elif (side1==side2 and side3==side4) or (side2==side3 and side1==side4):\n",
    "        print(\"it is kite\")\n",
    "    else:\n",
    "        print(\"it is general quadrilaterol\")\n"
   ]
  },
  {
   "cell_type": "markdown",
   "id": "22364dcc-a7ac-424a-9155-8242f6478e6a",
   "metadata": {},
   "source": [
    "### 29. Write a Python script to determine the season based on a user-provided month using elif statements."
   ]
  },
  {
   "cell_type": "code",
   "execution_count": 38,
   "id": "b734d350-c890-4179-ae89-da69e55ddf11",
   "metadata": {},
   "outputs": [
    {
     "name": "stdout",
     "output_type": "stream",
     "text": [
      "The season for January is Winter.\n"
     ]
    }
   ],
   "source": [
    "month = \"January\"\n",
    "month = month.lower()\n",
    "\n",
    "if month in (\"december\", \"january\", \"february\"):\n",
    "    season = \"Winter\"\n",
    "elif month in (\"march\", \"april\", \"may\"):\n",
    "    season = \"Spring\"\n",
    "elif month in (\"june\", \"july\", \"august\"):\n",
    "    season = \"Summer\"\n",
    "elif month in (\"september\", \"october\", \"november\"):\n",
    "    season = \"Fall\"\n",
    "else:\n",
    "    season = \"Invalid month\"\n",
    "\n",
    "print(f\"The season for {month.capitalize()} is {season}.\")\n"
   ]
  },
  {
   "cell_type": "markdown",
   "id": "8a79af7f-aa0b-4878-9aa5-df788b2958a9",
   "metadata": {},
   "source": [
    "### 30. Implement a program to determine the type of a year (leap or common) and month (30 or 31 days) using elif statements."
   ]
  },
  {
   "cell_type": "code",
   "execution_count": 42,
   "id": "f0827253-9a67-4033-9779-ec2ab48f9383",
   "metadata": {},
   "outputs": [
    {
     "name": "stdout",
     "output_type": "stream",
     "text": [
      "February 2024 is a Leap year with 29 days.\n"
     ]
    }
   ],
   "source": [
    "year = 2024\n",
    "month = \"February\"\n",
    "\n",
    "if (year % 4 == 0 and year % 100 != 0) or (year % 400 == 0):\n",
    "    year_type = \"Leap year\"\n",
    "else:\n",
    "    year_type = \"Common year\"\n",
    "\n",
    "if month.lower() in (\"january\", \"march\", \"may\", \"july\", \"august\", \"october\", \"december\"):\n",
    "    days_in_month = 31\n",
    "elif month.lower() in (\"april\", \"june\", \"september\", \"november\"):\n",
    "    days_in_month = 30\n",
    "elif month.lower() == \"february\":\n",
    "    days_in_month = 29 if year_type == \"Leap year\" else 28\n",
    "else:\n",
    "    days_in_month = \"Invalid month\"\n",
    "\n",
    "if isinstance(days_in_month, int):\n",
    "    print(f\"{month.capitalize()} {year} is a {year_type} with {days_in_month} days.\")\n",
    "else:\n",
    "    print(f\"Invalid month: {month.capitalize()}.\")\n"
   ]
  },
  {
   "cell_type": "markdown",
   "id": "6c55f21a-b271-41bf-b359-98d3039c7e73",
   "metadata": {},
   "source": [
    "# LEVEL 2"
   ]
  },
  {
   "cell_type": "markdown",
   "id": "7f16a433-444c-48f1-940f-248871bfec73",
   "metadata": {},
   "source": [
    "### 1. Write a Python program that checks if a given number is positive, negative, or zero."
   ]
  },
  {
   "cell_type": "code",
   "execution_count": 44,
   "id": "ee6bc97e-a7a5-494e-bcf7-5205515a5396",
   "metadata": {},
   "outputs": [
    {
     "name": "stdout",
     "output_type": "stream",
     "text": [
      "1 is positive\n"
     ]
    }
   ],
   "source": [
    "num = 1\n",
    "if num == 0:\n",
    "     print(f\"{num} is zero\")\n",
    "elif num>0:\n",
    "    print(f\"{num} is positive\")\n",
    "else :\n",
    "    print(f\"{num} is negative\")"
   ]
  },
  {
   "cell_type": "markdown",
   "id": "f950753d-9a2d-4b4d-8f0e-8af41eb31253",
   "metadata": {},
   "source": [
    "### 2. Create a program to determine if a person is eligible to vote based on their age."
   ]
  },
  {
   "cell_type": "code",
   "execution_count": 45,
   "id": "0e5feef0-6fa4-46f4-a3d0-4b8c2f5b98e6",
   "metadata": {},
   "outputs": [
    {
     "name": "stdout",
     "output_type": "stream",
     "text": [
      "person is not eligible to vote\n"
     ]
    }
   ],
   "source": [
    "age = 17\n",
    "if age <=0:\n",
    "    print(\"enter valid age\")\n",
    "elif age >=18:\n",
    "    print(\"person is eligible to vote\")\n",
    "else:\n",
    "    print(\"person is not eligible to vote\")"
   ]
  },
  {
   "cell_type": "markdown",
   "id": "5e508bf4-a0a6-486a-b6f0-2fcbc1e4f1a1",
   "metadata": {},
   "source": [
    "### 3. Write a program to find the maximum of two given numbers using conditional statements."
   ]
  },
  {
   "cell_type": "code",
   "execution_count": 46,
   "id": "15d5875b-8ce0-48d2-b2d0-a9f5ac059e5a",
   "metadata": {},
   "outputs": [
    {
     "name": "stdout",
     "output_type": "stream",
     "text": [
      "45 is greater than 36\n"
     ]
    }
   ],
   "source": [
    "a = 45\n",
    "b =36\n",
    "if a==b:\n",
    "    print(f\"{a} is eqaul to {b}\")\n",
    "elif a>b:\n",
    "    print(f\"{a} is greater than {b}\")\n",
    "else:\n",
    "    print(f\"{a} is less than {b}\")"
   ]
  },
  {
   "cell_type": "markdown",
   "id": "dc62e370-b7d7-437f-b773-9db0fb0da0fd",
   "metadata": {},
   "source": [
    "### 4. Develop a program that calculates the grade of a student based on their exam score."
   ]
  },
  {
   "cell_type": "code",
   "execution_count": 48,
   "id": "302fb987-f9d4-4a00-a422-39822c08e3d6",
   "metadata": {},
   "outputs": [
    {
     "name": "stdout",
     "output_type": "stream",
     "text": [
      "The student's grade is: A+\n"
     ]
    }
   ],
   "source": [
    "score = 88\n",
    "\n",
    "if 90 <= score <= 100:\n",
    "        grade = 'o'\n",
    "elif 80 <= score < 90:\n",
    "        grade = 'A+'\n",
    "elif 70 <= score < 80:\n",
    "        grade = 'A'\n",
    "elif 60 <= score < 70:\n",
    "        grade = 'B+'\n",
    "elif 50 <= score < 60:\n",
    "        grade = 'B'\n",
    "elif 40 <= score < 50:\n",
    "        grade = 'c'\n",
    "elif 0 <= score < 40:\n",
    "        grade = 'F'\n",
    "else:\n",
    "        print(\"Invalid score. Please enter a score between 0 and 100.\")\n",
    "        exit()\n",
    "\n",
    "print(f\"The student's grade is: {grade}\")  "
   ]
  },
  {
   "cell_type": "markdown",
   "id": "05d2832f-9249-4fe9-9811-c61004f4fee0",
   "metadata": {},
   "source": [
    "### 5. Create a program that checks if a year is a leap year or not."
   ]
  },
  {
   "cell_type": "code",
   "execution_count": 52,
   "id": "09d1ba96-f38c-43d9-9bdc-c323927e30ef",
   "metadata": {},
   "outputs": [
    {
     "name": "stdout",
     "output_type": "stream",
     "text": [
      "Not a leap year\n"
     ]
    }
   ],
   "source": [
    "year = 1800\n",
    "\n",
    "if (year % 4 == 0 and year % 100 != 0) or (year % 400 == 0):\n",
    "    print(\"Leap year\")\n",
    "else:\n",
    "    print(\"Not a leap year\")"
   ]
  },
  {
   "cell_type": "markdown",
   "id": "9dfd9d58-3fd0-4e4e-9ebf-8842ad38ef2b",
   "metadata": {},
   "source": [
    "### 6. Write a program to classify a triangle based on its sides' lengths."
   ]
  },
  {
   "cell_type": "code",
   "execution_count": 53,
   "id": "93104913-fbec-49bf-8e26-89745f9d8dc9",
   "metadata": {},
   "outputs": [
    {
     "name": "stdout",
     "output_type": "stream",
     "text": [
      "The triangle with side lengths 4, 4, and 6 is a Isosceles triangle.\n"
     ]
    }
   ],
   "source": [
    "side1 = 4\n",
    "side2 = 4\n",
    "side3 = 6\n",
    "\n",
    "if side1 == side2 == side3:\n",
    "    triangle_type = \"Equilateral triangle\"\n",
    "elif side1 == side2 or side2 == side3 or side3 == side1:\n",
    "    triangle_type = \"Isosceles triangle\"\n",
    "else:\n",
    "    triangle_type = \"Scalene triangle\"\n",
    "\n",
    "print(f\"The triangle with side lengths {side1}, {side2}, and {side3} is a {triangle_type}.\")\n"
   ]
  },
  {
   "cell_type": "markdown",
   "id": "ba9605f5-941a-4ded-884d-62cd6f2942f9",
   "metadata": {},
   "source": [
    "### 7. Build a program that determines the largest of three given numbers."
   ]
  },
  {
   "cell_type": "code",
   "execution_count": 54,
   "id": "90dc070e-ab10-4777-8906-706c98316e2e",
   "metadata": {},
   "outputs": [
    {
     "name": "stdout",
     "output_type": "stream",
     "text": [
      "32 is greater than 13 and 22\n"
     ]
    }
   ],
   "source": [
    "a = 32\n",
    "b = 13\n",
    "c = 22\n",
    "if a>b and a>c:\n",
    "    print(f\"{a} is greater than {b} and {c}\")\n",
    "elif b>a and b>c:\n",
    "     print(f\"{b} is greater than {a} and {c}\")\n",
    "else:\n",
    "     print(f\"{c} is greater than {a} and {b}\")"
   ]
  },
  {
   "cell_type": "markdown",
   "id": "670e853f-5b85-46d1-b62b-75b2e0b88792",
   "metadata": {},
   "source": [
    "### 8. Develop a program that checks whether a character is a vowel or a consonant."
   ]
  },
  {
   "cell_type": "code",
   "execution_count": 58,
   "id": "74edf121-e834-4a40-b219-88daf357adc0",
   "metadata": {},
   "outputs": [
    {
     "name": "stdout",
     "output_type": "stream",
     "text": [
      "I is vowel\n"
     ]
    }
   ],
   "source": [
    "character = 'I'\n",
    "if character.isalpha():\n",
    "    if character  in \"AEIOUaeiou\":\n",
    "        print(f\"{character} is vowel\")\n",
    "    else:\n",
    "         print(f\"{character} is consonent\")\n",
    "else:\n",
    "    print(f\"{character} is neither vowel nor consonent. It is other character.\")"
   ]
  },
  {
   "cell_type": "markdown",
   "id": "e52d3138-5c2a-4748-b9f0-b9786301204a",
   "metadata": {},
   "source": [
    "### 9. Create a program to calculate the total cost of a shopping cart based on discounts."
   ]
  },
  {
   "cell_type": "code",
   "execution_count": 59,
   "id": "e8a91b65-4e89-44e6-bf94-996f3946fefe",
   "metadata": {},
   "outputs": [
    {
     "name": "stdout",
     "output_type": "stream",
     "text": [
      "Original price: 8000.00\n",
      "Discount rate: 10%\n",
      "Discounted price: 7200.00\n"
     ]
    }
   ],
   "source": [
    "purchase_amount = 8000\n",
    "\n",
    "if purchase_amount < 1000:\n",
    "    discount_rate = 0\n",
    "elif 1000 <= purchase_amount < 5000:\n",
    "    discount_rate = 0.05  # 5% discount for amounts between 1000 and 4999.99\n",
    "elif 5000 <= purchase_amount < 10000:\n",
    "    discount_rate = 0.1  # 10% discount for amounts between 5000 and 9999.99\n",
    "else:\n",
    "    discount_rate = 0.15  # 15% discount for amounts of 1000 or more\n",
    "\n",
    "discounted_price = purchase_amount - (purchase_amount * discount_rate)\n",
    "\n",
    "print(f\"Original price: {purchase_amount:.2f}\")\n",
    "print(f\"Discount rate: {discount_rate * 100:.0f}%\")\n",
    "print(f\"Discounted price: {discounted_price:.2f}\")"
   ]
  },
  {
   "cell_type": "markdown",
   "id": "3300a58e-85c2-4379-b798-e4b947b13f3f",
   "metadata": {},
   "source": [
    "### 10. Write a program that checks if a given number is even or odd."
   ]
  },
  {
   "cell_type": "code",
   "execution_count": 60,
   "id": "3f2aadc8-8b3f-4fe7-8664-b9935d57e16d",
   "metadata": {},
   "outputs": [
    {
     "name": "stdout",
     "output_type": "stream",
     "text": [
      "6 is even\n"
     ]
    }
   ],
   "source": [
    "num = 6\n",
    "if num%2== 0:\n",
    "    print(f\"{num} is even\")\n",
    "else:\n",
    "    print(f\"{num} is odd\")"
   ]
  },
  {
   "cell_type": "markdown",
   "id": "d2f166b3-477f-460b-b465-d115fbe09690",
   "metadata": {},
   "source": [
    "### 11. Write a program that calculates the roots of a quadratic equation ."
   ]
  },
  {
   "cell_type": "code",
   "execution_count": 64,
   "id": "4cc046ea-c8b5-4faa-afb0-ab7e5f1d1e10",
   "metadata": {},
   "outputs": [
    {
     "name": "stdout",
     "output_type": "stream",
     "text": [
      "first rooot is 2.0\n",
      "first rooot is 2.0\n"
     ]
    }
   ],
   "source": [
    "# y =a*(x**2) + b*x + c    This is the formal quadratic eqaution\n",
    "a = 1    # coefficient of x**2\n",
    "b = -4   # coefficient of x\n",
    "c = 4  # coefficient of x**0\n",
    "d = (b**2-4*a*c)  # discreminent of exqutaions\n",
    "if d>=0:\n",
    "    root1 = (-b+d**0.5)/(2*a)\n",
    "    print(f\"first rooot is {root1}\")\n",
    "    root2 = (-b-d**0.5)/(2*a)\n",
    "    print(f\"first rooot is {root2}\")\n",
    "else:\n",
    "    real_part = -b / (2*a)\n",
    "    imaginary_part = abs(d)**0.5 / (2*a)\n",
    "    root1 = complex(real_part, imaginary_part)\n",
    "    root2 = complex(real_part, -imaginary_part)\n",
    "    print(\"root are imaginary\")"
   ]
  },
  {
   "cell_type": "markdown",
   "id": "16ca0d15-1305-4363-9534-5c4787811fce",
   "metadata": {},
   "source": [
    "### 12. Create a program that determines the day of the week based on the day number (1-7)."
   ]
  },
  {
   "cell_type": "code",
   "execution_count": 66,
   "id": "b88ae017-355f-43ec-a75d-d49c7e9b83cc",
   "metadata": {},
   "outputs": [
    {
     "name": "stdout",
     "output_type": "stream",
     "text": [
      "friday\n"
     ]
    }
   ],
   "source": [
    "day_num = 5\n",
    "if 0<day_num<=7:\n",
    "    match(day_num):\n",
    "        case 1:print(\"monday\")\n",
    "        case 2:print(\"tuesday\")\n",
    "        case 3:print(\"wednesday\")\n",
    "        case 4:print(\"thursday\")\n",
    "        case 5:print(\"friday\")\n",
    "        case 6:print(\"saturday\")\n",
    "        case 7:print(\"sunday\")\n",
    "else:\n",
    "    print(\"enter valid number between 1 & 7\")"
   ]
  },
  {
   "cell_type": "markdown",
   "id": "395beff6-0a56-4f1f-8eb4-2b4b135c79e8",
   "metadata": {},
   "source": [
    "### 13. Develop a program that calculates the factorial of a given number using recursion."
   ]
  },
  {
   "cell_type": "code",
   "execution_count": 71,
   "id": "3e0188c6-4c5b-4db8-95a6-103d9e8983eb",
   "metadata": {},
   "outputs": [
    {
     "name": "stdout",
     "output_type": "stream",
     "text": [
      "factorial of 6 is 720\n"
     ]
    }
   ],
   "source": [
    "num = 6\n",
    "def factorial(num):\n",
    "    if num==0:\n",
    "        return 1\n",
    "    else:\n",
    "        return num*factorial(num-1)\n",
    "print(f\"factorial of {num} is {factorial(num)}\")"
   ]
  },
  {
   "cell_type": "markdown",
   "id": "13e8f989-68f3-4dde-aa5e-e50d8f90845a",
   "metadata": {},
   "source": [
    "### 14. Write a program to find the largest among three numbers without using the `max()` function."
   ]
  },
  {
   "cell_type": "code",
   "execution_count": 72,
   "id": "4a370032-2594-400c-9a02-04f9f8c8343b",
   "metadata": {},
   "outputs": [
    {
     "name": "stdout",
     "output_type": "stream",
     "text": [
      "32 is greater than 13 and 22\n"
     ]
    }
   ],
   "source": [
    "a = 32\n",
    "b = 13\n",
    "c = 22\n",
    "if a>b and a>c:\n",
    "    print(f\"{a} is greater than {b} and {c}\")\n",
    "elif b>a and b>c:\n",
    "     print(f\"{b} is greater than {a} and {c}\")\n",
    "else:\n",
    "     print(f\"{c} is greater than {a} and {b}\")"
   ]
  },
  {
   "cell_type": "markdown",
   "id": "03443a0b-0e1d-42aa-9ebd-d7ec9ae761c8",
   "metadata": {},
   "source": [
    "### 15. Create a program that simulates a basic ATM transaction menu."
   ]
  },
  {
   "cell_type": "code",
   "execution_count": 60,
   "id": "d6564555-d403-41b4-805c-3df96deb36ab",
   "metadata": {},
   "outputs": [
    {
     "name": "stdout",
     "output_type": "stream",
     "text": [
      "you have inserted your atm card \n"
     ]
    },
    {
     "name": "stdin",
     "output_type": "stream",
     "text": [
      "Enter your pin :  1234\n",
      "enter\n",
      " 1 : balance check\n",
      " 2 : withdraw\n",
      " 3 : deposit\n",
      " 4 : change pin\n",
      " 0 : exit\n",
      " 2\n",
      "enter withdraw amount :  6000\n"
     ]
    },
    {
     "name": "stdout",
     "output_type": "stream",
     "text": [
      "insufficient balance\n",
      "\n"
     ]
    },
    {
     "name": "stdin",
     "output_type": "stream",
     "text": [
      "Press 1 : Continue\n",
      "Press 0 : exit\n",
      " 1\n",
      "enter\n",
      " 1 : balance check\n",
      " 2 : withdraw\n",
      " 3 : deposit\n",
      " 4 : change pin\n",
      " 0 : exit\n",
      " 3\n",
      "enter deposit amount :  10000000\n"
     ]
    },
    {
     "name": "stdout",
     "output_type": "stream",
     "text": [
      "you have succesfully withdraw Rs 10000000\n",
      "your remaining balance is 10005000 \n",
      "\n"
     ]
    },
    {
     "name": "stdin",
     "output_type": "stream",
     "text": [
      "Press 1 : Continue\n",
      "Press 0 : exit\n",
      " 1\n",
      "enter\n",
      " 1 : balance check\n",
      " 2 : withdraw\n",
      " 3 : deposit\n",
      " 4 : change pin\n",
      " 0 : exit\n",
      " 2\n",
      "enter withdraw amount :  50000\n"
     ]
    },
    {
     "name": "stdout",
     "output_type": "stream",
     "text": [
      "you have succesfully withdraw Rs 50000\n",
      "your remaining balance is 9955000 \n",
      "\n"
     ]
    },
    {
     "name": "stdin",
     "output_type": "stream",
     "text": [
      "Press 1 : Continue\n",
      "Press 0 : exit\n",
      " 1\n",
      "enter\n",
      " 1 : balance check\n",
      " 2 : withdraw\n",
      " 3 : deposit\n",
      " 4 : change pin\n",
      " 0 : exit\n",
      " 2\n",
      "enter withdraw amount :  500000\n"
     ]
    },
    {
     "name": "stdout",
     "output_type": "stream",
     "text": [
      "you have succesfully withdraw Rs 500000\n",
      "your remaining balance is 9455000 \n",
      "\n"
     ]
    },
    {
     "name": "stdin",
     "output_type": "stream",
     "text": [
      "Press 1 : Continue\n",
      "Press 0 : exit\n",
      " 1\n",
      "enter\n",
      " 1 : balance check\n",
      " 2 : withdraw\n",
      " 3 : deposit\n",
      " 4 : change pin\n",
      " 0 : exit\n",
      " 1\n"
     ]
    },
    {
     "name": "stdout",
     "output_type": "stream",
     "text": [
      "your remaining bank balance is :  9455000 \n",
      "\n"
     ]
    },
    {
     "name": "stdin",
     "output_type": "stream",
     "text": [
      "Press 1 : Continue\n",
      "Press 0 : exit\n",
      " 0\n"
     ]
    }
   ],
   "source": [
    "atm_pin = 1234\n",
    "amount = 5000\n",
    "def show_menu():\n",
    "    print(\"enter\\n 1 : balance check\\n 2 : withdraw\\n 3 : deposit\\n 4 : change pin  0 : exit\")\n",
    "\n",
    "def withdraw(with_amt):\n",
    "    global amount\n",
    "    if  amount>=with_amt:\n",
    "        amount = amount-with_amt\n",
    "        print(\"you have succesfully withdraw Rs\",with_amt)\n",
    "        print(\"your remaining balance is\",amount,'\\n')\n",
    "    else: print(\"insufficient balance\\n\")\n",
    "        \n",
    "def deposit(dipo_amount):\n",
    "    global amount\n",
    "    amount = amount + dipo_amount\n",
    "    print(\"you have succesfully deposit Rs\",dipo_amount,)\n",
    "    print(\"your remaining balance is\",amount,'\\n')\n",
    "\n",
    "def change_pin(new_pin):\n",
    "    atm_pin = new_pin\n",
    "    print(\"you have succesfully changed your pin \")\n",
    "\n",
    "print(\"you have inserted your atm card \")\n",
    "pin = int(input(\"Enter your pin : \"))\n",
    "if atm_pin == pin:\n",
    "    operation = int(input(\"enter\\n 1 : balance check\\n 2 : withdraw\\n 3 : deposit\\n 4 : change pin\\n 0 : exit\\n\")) \n",
    "    while(operation != 0):\n",
    "        match(operation):\n",
    "             case 1 : print(\"your remaining bank balance is : \",amount,'\\n')\n",
    "             case 2 : withdraw(int(input(\"enter withdraw amount : \")))\n",
    "             case 3 : deposit(int(input(\"enter deposit amount : \")))\n",
    "             case 4 : change_pin(int(input(\"enter your new pin : \")))\n",
    "             case _ : print(\"invalid input\\n\") \n",
    "        conti = int(input(\"Press 1 : Continue\\nPress 0 : exit\\n\"))\n",
    "        if conti == 1: \n",
    "            operation = int(input(\"enter\\n 1 : balance check\\n 2 : withdraw\\n 3 : deposit\\n 4 : change pin\\n 0 : exit\\n\"))\n",
    "        else: \n",
    "            operation = 0\n",
    "else: print(\"you have inserted wrong pin please try again\\n\")"
   ]
  },
  {
   "cell_type": "markdown",
   "id": "966e7704-79cd-4d3d-bbe0-026c6b7b7344",
   "metadata": {},
   "source": [
    "## 16. Build a program that checks if a given string is a palindrome or not."
   ]
  },
  {
   "cell_type": "code",
   "execution_count": 73,
   "id": "9a0c3063-8c37-4414-bdb8-93b2a3e18e90",
   "metadata": {},
   "outputs": [
    {
     "name": "stdout",
     "output_type": "stream",
     "text": [
      "asdfdsa is palindrome\n"
     ]
    }
   ],
   "source": [
    "strr = \"asdfdsa\"\n",
    "if strr == strr[::-1]:\n",
    "    print(f\"{strr} is palindrome\")\n",
    "else:\n",
    "    print(f\"{strr} is not palindrome\")"
   ]
  },
  {
   "cell_type": "markdown",
   "id": "cccc9ad1-a77c-4a35-ab38-9d26bd57055b",
   "metadata": {},
   "source": [
    "### 17. Write a program that calculates the average of a list of numbers, excluding the smallest and largest values."
   ]
  },
  {
   "cell_type": "code",
   "execution_count": 74,
   "id": "5c9a39c2-62ab-4613-98f6-0fd6fb4c9683",
   "metadata": {},
   "outputs": [
    {
     "name": "stdout",
     "output_type": "stream",
     "text": [
      "the average of a list of numbers, excluding the smallest and largest values:-  36.5\n"
     ]
    }
   ],
   "source": [
    "lis = [23,21,43,53,23,45,67,32]\n",
    "len_lis = len(lis)\n",
    "mini = min(lis)\n",
    "maxi = max(lis)\n",
    "total_sum = sum(lis)\n",
    "\n",
    "avg_exclude_min_max = (total_sum-mini-maxi)/(len_lis-2)\n",
    "\n",
    "print(\"the average of a list of numbers, excluding the smallest and largest values:- \",avg_exclude_min_max)"
   ]
  },
  {
   "cell_type": "markdown",
   "id": "6da6dcf2-417b-4d4f-98fd-b5210a4f8cdd",
   "metadata": {},
   "source": [
    "### 18. Develop a program that converts a given temperature from Celsius to Fahrenheit."
   ]
  },
  {
   "cell_type": "code",
   "execution_count": 75,
   "id": "d0834c9a-483f-4a63-a67d-a65324c36bdb",
   "metadata": {},
   "outputs": [
    {
     "name": "stdout",
     "output_type": "stream",
     "text": [
      "37 degrees Celsius is equal to 98.60 degrees Fahrenheit.\n"
     ]
    }
   ],
   "source": [
    "cels = 37\n",
    "fahr = (cels * 9/5) + 32\n",
    "\n",
    "print(f\"{cels} degrees Celsius is equal to {fahr:.2f} degrees Fahrenheit.\")\n"
   ]
  },
  {
   "cell_type": "markdown",
   "id": "ac75033f-ce46-4be1-8a79-ce68cd5241e5",
   "metadata": {},
   "source": [
    "### 19. Create a program that simulates a basic calculator for addition, subtraction, multiplication, and division."
   ]
  },
  {
   "cell_type": "code",
   "execution_count": 70,
   "id": "0f5d5c09-40fd-46de-8e94-c1b790324672",
   "metadata": {},
   "outputs": [
    {
     "name": "stdout",
     "output_type": "stream",
     "text": [
      "multiplication of numbers is  60\n"
     ]
    }
   ],
   "source": [
    "from functools import reduce\n",
    "def add(*args):\n",
    "    return reduce(lambda a,b: a+b, args)\n",
    "\n",
    "def sub(*args):\n",
    "    return reduce(lambda a,b: a-b, args)\n",
    "\n",
    "def multi(*args):\n",
    "    return reduce(lambda a,b: a*b, args)\n",
    "\n",
    "def divi(*args):\n",
    "    return reduce(lambda a,b: a/b, args)\n",
    "\n",
    "\n",
    "operator = '*'    ##you can also take from user using input function\n",
    "#operator = input(\"enter operator what you want \\n\")\n",
    "match (operator):\n",
    "    case '+': print(\"addition of numbers is \",add(1,3,5,6))\n",
    "    case '-': print(\"substraction of numbers is \",sub(4,5))\n",
    "    case '*': print(\"multiplication of numbers is \",multi(4,5,3))\n",
    "    case '/': print(\"division of numbers is \",divi(4,5))\n",
    "    case _ : print(\"invalid operator\")\n",
    "    "
   ]
  },
  {
   "cell_type": "markdown",
   "id": "3b2d28ab-bb7d-4bc4-8d93-d72012ffe886",
   "metadata": {},
   "source": [
    "### 20. Write a program that determines the roots of a cubic equation using the Cardano formula."
   ]
  },
  {
   "cell_type": "code",
   "execution_count": 1,
   "id": "6f789064-dabb-4453-943d-6e8eb16667c7",
   "metadata": {},
   "outputs": [
    {
     "name": "stdout",
     "output_type": "stream",
     "text": [
      "Roots: [(3.1547005383792515+0j), (1.4226497308103745-0j), (1.4226497308103738+0j)]\n"
     ]
    }
   ],
   "source": [
    "import cmath\n",
    "\n",
    "def cubic_roots(a, b, c, d):\n",
    "    p = c / a - (b**2) / (3 * (a**2))\n",
    "    q = (2 * (b**3)) / (27 * (a**3)) - (b * c) / (3 * (a**2)) + d / a\n",
    "    delta = (q**2) / 4 + (p**3) / 27\n",
    "\n",
    "    if delta >= 0:\n",
    "        delta_sqrt = cmath.sqrt(delta)\n",
    "        u = (-q / 2 + delta_sqrt)**(1/3)\n",
    "        v = (-q / 2 - delta_sqrt)**(1/3)\n",
    "        root1 = u + v - b / (3 * a)\n",
    "        return [root1]\n",
    "    else:\n",
    "        r = cmath.sqrt((-p**3) / 27)\n",
    "        theta = cmath.phase(-q / 2 + r)\n",
    "        root1 = 2 * cmath.sqrt(-p / 3) * cmath.cos(theta / 3) - b / (3 * a)\n",
    "        root2 = 2 * cmath.sqrt(-p / 3) * cmath.cos((theta + 2 * cmath.pi) / 3) - b / (3 * a)\n",
    "        root3 = 2 * cmath.sqrt(-p / 3) * cmath.cos((theta + 4 * cmath.pi) / 3) - b / (3 * a)\n",
    "        return [root1, root2, root3]\n",
    "\n",
    "a = 1.0\n",
    "b = -6.0\n",
    "c = 11.0\n",
    "d = -6.0\n",
    "\n",
    "roots = cubic_roots(a, b, c, d)\n",
    "print(\"Roots:\", roots)\n"
   ]
  },
  {
   "cell_type": "markdown",
   "id": "d6685673-ce78-4c31-973a-2600dd0414bf",
   "metadata": {},
   "source": [
    "### 21. Create a program that calculates the income tax based on the user's income and tax brackets."
   ]
  },
  {
   "cell_type": "code",
   "execution_count": 73,
   "id": "0b63cee7-b7fb-4480-a684-8a5721987048",
   "metadata": {},
   "outputs": [
    {
     "name": "stdout",
     "output_type": "stream",
     "text": [
      "income tax of amount 2000000 is: 300000.0\n"
     ]
    }
   ],
   "source": [
    "income_amt = 2000000\n",
    "if income_amt<250000:\n",
    "    in_tax = 0\n",
    "elif 300000<=income_amt< 600000:\n",
    "    in_tax = (income_amt-300000)*0.5     # 5%\n",
    "elif 600000<=income_amt<900000:\n",
    "    in_tax = (income_amt-600000)*0.1 + (300000*0.05)\n",
    "elif 900000<=income_amt<1200000:\n",
    "    in_tax = (income_amt-900000)*0.15 +(300000*0.1)+(300000*0.05)\n",
    "elif 1200000<=income_amt<1500000:\n",
    "    in_tax = (income_amt-1200000)*0.2 +(300000*0.15) +(300000*0.1)+(300000*0.05)\n",
    "elif income_amt >=1500000:\n",
    "    in_tax = (income_amt-1500000)*0.3+(300000*0.2) +(300000*0.15) +(300000*0.1)+(300000*0.05)\n",
    "\n",
    "print(f\"income tax of amount {income_amt} is: {in_tax}\")"
   ]
  },
  {
   "cell_type": "markdown",
   "id": "c68799f6-de11-4c3b-8009-c2e9a1888ae2",
   "metadata": {},
   "source": [
    "### 22. Write a program that simulates a rock-paper-scissors game against the computer."
   ]
  },
  {
   "cell_type": "code",
   "execution_count": 10,
   "id": "c84d2e4a-a5ae-49c1-b77e-814d723e1733",
   "metadata": {},
   "outputs": [
    {
     "name": "stdin",
     "output_type": "stream",
     "text": [
      "enter your call : rock, paper, scissor\n",
      " rock\n"
     ]
    },
    {
     "name": "stdout",
     "output_type": "stream",
     "text": [
      "DRAW : you and computer selected same\n"
     ]
    },
    {
     "name": "stdin",
     "output_type": "stream",
     "text": [
      "0 : exit\n",
      "1 : continue\n",
      " 1\n",
      "enter your call : rock, paper, scissor\n",
      " rock\n"
     ]
    },
    {
     "name": "stdout",
     "output_type": "stream",
     "text": [
      "you won the game\n"
     ]
    },
    {
     "name": "stdin",
     "output_type": "stream",
     "text": [
      "0 : exit\n",
      "1 : continue\n",
      " 1\n",
      "enter your call : rock, paper, scissor\n",
      " paper\n"
     ]
    },
    {
     "name": "stdout",
     "output_type": "stream",
     "text": [
      "better luck next time\n"
     ]
    },
    {
     "name": "stdin",
     "output_type": "stream",
     "text": [
      "0 : exit\n",
      "1 : continue\n",
      " 0\n"
     ]
    }
   ],
   "source": [
    "import random\n",
    "i = 1\n",
    "strr = [\"rock\",\"paper\",\"scissor\"]\n",
    "while(i==1):\n",
    "    user_call = input(\"enter your call : rock, paper, scissor\\n\")\n",
    "    #user_call  = strr[random.randint(0,2)]\n",
    "    com_call  = strr[random.randint(0,2)]\n",
    "    if user_call == \"rock\":\n",
    "        if com_call == \"paper\":\n",
    "            print(\"better luck next time\")\n",
    "        elif(com_call== \"scissor\"):\n",
    "            print(\"you won the game\")\n",
    "        else:\n",
    "            print(\"DRAW : you and computer selected same\")\n",
    "    elif user_call == \"paper\":\n",
    "        if com_call == \"rock\":\n",
    "            print(\"you won the game\")\n",
    "        elif com_call == \"scissor\":\n",
    "            print(\"better luck next time\")\n",
    "        else:\n",
    "            print(\"DRAW : you and computer selected same\")\n",
    "    elif user_call == \"scissor\":\n",
    "        if com_call == \"paper\":\n",
    "            print(\"you won the game\")\n",
    "        elif com_call == \"rock\":\n",
    "            print(\"better luck next time\")\n",
    "        else:\n",
    "            print(\"DRAW : you and computer selected same\")\n",
    "    else:\n",
    "        print(\"wrong entry\")\n",
    "\n",
    "    \n",
    "    do_you_conti = int(input(\"0 : exit\\n1 : continue\\n\"))\n",
    "    if do_you_conti == 0:\n",
    "        i = 0\n",
    "    else: i = 1 \n",
    "        "
   ]
  },
  {
   "cell_type": "markdown",
   "id": "939c42ce-7759-487e-b5f8-e46e9bcf7b6b",
   "metadata": {},
   "source": [
    "### 23. Develop a program that generates a random password based on user preferences (length, complexity)."
   ]
  },
  {
   "cell_type": "code",
   "execution_count": 57,
   "id": "91293d82-dea0-4b91-8ac9-55695d362145",
   "metadata": {},
   "outputs": [
    {
     "name": "stdout",
     "output_type": "stream",
     "text": [
      "oT49^]]FfQz_\n"
     ]
    }
   ],
   "source": [
    "import random\n",
    "import string\n",
    "\n",
    "simple_char = string.digits \n",
    "strong_char = string.ascii_letters + string.digits \n",
    "complex_char = string.ascii_letters + string.digits + string.punctuation\n",
    "\n",
    "pass_length = 12\n",
    "#pass_length = int(input(\"choose length of password))\n",
    "complex_level = 3\n",
    "#complex_level = int(input(\"1 : simple password\\n2 : strong password\\n3 : complex password\n",
    "\n",
    "if complex_level == 1:\n",
    "    random_pass = ''.join(random.choice(simple_char) for i in range (pass_length))\n",
    "elif complex_level == 2:\n",
    "    random_pass = ''.join(random.choice(strong_char) for i in range (pass_length))\n",
    "else:\n",
    "    random_pass = ''.join(random.choice(complex_char) for i in range (pass_length))\n",
    "\n",
    "print(random_pass)"
   ]
  },
  {
   "cell_type": "markdown",
   "id": "29dbbcf2-82c1-4d4c-8102-95e0b27c67e2",
   "metadata": {},
   "source": [
    "### 24. Create a program that implements a simple text-based adventure game with branching scenarios."
   ]
  },
  {
   "cell_type": "code",
   "execution_count": 2,
   "id": "d289eac6-818a-4ff3-a63a-ca01d45b049f",
   "metadata": {},
   "outputs": [
    {
     "name": "stdout",
     "output_type": "stream",
     "text": [
      "Welcome to the Text Adventure Game!\n",
      "You find yourself in a mysterious land. Your decisions will shape your destiny.\n",
      "Let the adventure begin!\n",
      "\n",
      "You enter a dark forest. You hear strange noises.\n",
      "Choose your action:\n",
      "1. Explore deeper into the forest.\n",
      "2. Leave the forest.\n"
     ]
    },
    {
     "name": "stdin",
     "output_type": "stream",
     "text": [
      "Enter the number of your choice:  1\n"
     ]
    },
    {
     "name": "stdout",
     "output_type": "stream",
     "text": [
      "As you explore, you encounter a friendly creature. It guides you safely through the forest.\n",
      "\n",
      "You successfully navigated the forest.\n",
      "You discover a mysterious cave. It's pitch black inside.\n",
      "Choose your action:\n",
      "1. Enter the cave.\n",
      "2. Ignore the cave and continue.\n"
     ]
    },
    {
     "name": "stdin",
     "output_type": "stream",
     "text": [
      "Enter the number of your choice:  1\n"
     ]
    },
    {
     "name": "stdout",
     "output_type": "stream",
     "text": [
      "You bravely enter the cave. Inside, you find a hidden treasure!\n",
      "\n",
      "You uncovered a hidden treasure!\n",
      "You come across a towering mountain. It seems impassable.\n",
      "Choose your action:\n",
      "1. Climb the mountain.\n",
      "2. Find an alternate route.\n"
     ]
    },
    {
     "name": "stdin",
     "output_type": "stream",
     "text": [
      "Enter the number of your choice:  1\n"
     ]
    },
    {
     "name": "stdout",
     "output_type": "stream",
     "text": [
      "You start climbing the mountain. It's a challenging journey, but you reach the summit.\n",
      "\n",
      "You conquered the mountain and reached the other side.\n",
      "\n",
      "Congratulations! You've completed the adventure.\n"
     ]
    }
   ],
   "source": [
    "def introduction():\n",
    "    print(\"Welcome to the Text Adventure Game!\")\n",
    "    print(\"You find yourself in a mysterious land. Your decisions will shape your destiny.\")\n",
    "    print(\"Let the adventure begin!\\n\")\n",
    "\n",
    "def make_decision(options):\n",
    "    print(\"Choose your action:\")\n",
    "    for i, option in enumerate(options, 1):\n",
    "        print(f\"{i}. {option}\")\n",
    "\n",
    "    choice = int(input(\"Enter the number of your choice: \"))\n",
    "    return choice\n",
    "\n",
    "def forest_scenario():\n",
    "    print(\"You enter a dark forest. You hear strange noises.\")\n",
    "    options = [\"Explore deeper into the forest.\", \"Leave the forest.\"]\n",
    "    choice = make_decision(options)\n",
    "\n",
    "    if choice == 1:\n",
    "        print(\"As you explore, you encounter a friendly creature. It guides you safely through the forest.\")\n",
    "        return True\n",
    "    else:\n",
    "        print(\"You decide to leave the forest. You continue your journey.\")\n",
    "        return False\n",
    "\n",
    "def cave_scenario():\n",
    "    print(\"You discover a mysterious cave. It's pitch black inside.\")\n",
    "    options = [\"Enter the cave.\", \"Ignore the cave and continue.\"]\n",
    "    choice = make_decision(options)\n",
    "\n",
    "    if choice == 1:\n",
    "        print(\"You bravely enter the cave. Inside, you find a hidden treasure!\")\n",
    "        return True\n",
    "    else:\n",
    "        print(\"You decide to continue without entering the cave.\")\n",
    "        return False\n",
    "\n",
    "def mountain_scenario():\n",
    "    print(\"You come across a towering mountain. It seems impassable.\")\n",
    "    options = [\"Climb the mountain.\", \"Find an alternate route.\"]\n",
    "    choice = make_decision(options)\n",
    "\n",
    "    if choice == 1:\n",
    "        print(\"You start climbing the mountain. It's a challenging journey, but you reach the summit.\")\n",
    "        return True\n",
    "    else:\n",
    "        print(\"You search for an alternate route. You find a winding path that leads around the mountain.\")\n",
    "        return False\n",
    "\n",
    "def main():\n",
    "    introduction()\n",
    "\n",
    "    if forest_scenario():\n",
    "        print(\"\\nYou successfully navigated the forest.\")\n",
    "        if cave_scenario():\n",
    "            print(\"\\nYou uncovered a hidden treasure!\")\n",
    "        else:\n",
    "            print(\"\\nYou continue your journey without entering the cave.\")\n",
    "\n",
    "    if mountain_scenario():\n",
    "        print(\"\\nYou conquered the mountain and reached the other side.\")\n",
    "\n",
    "    print(\"\\nCongratulations! You've completed the adventure.\")\n",
    "\n",
    "if __name__ == \"__main__\":\n",
    "    main()\n"
   ]
  },
  {
   "cell_type": "markdown",
   "id": "96a4da90-9087-4a3b-8fdd-d86507f2717e",
   "metadata": {},
   "source": [
    "### 25. Build a program that solves a linear equation for x, considering different cases."
   ]
  },
  {
   "cell_type": "code",
   "execution_count": 7,
   "id": "3e8b0e30-4108-486b-9278-bcdc5faeb536",
   "metadata": {},
   "outputs": [
    {
     "name": "stdout",
     "output_type": "stream",
     "text": [
      "x = -1.0\n"
     ]
    }
   ],
   "source": [
    "# ax+b = 0\n",
    "# 3x+3 = 0\n",
    "a = 3       #coefficient of x // coeff_a\n",
    "b = 3       #coeff_b\n",
    "\n",
    "if a == 0:\n",
    "    if b == 0:\n",
    "        print(\"infinite number of solution\")\n",
    "    else:\n",
    "        print(\"no solution\")\n",
    "else:\n",
    "    print(\"x =\",-b/a)\n",
    "    "
   ]
  },
  {
   "cell_type": "markdown",
   "id": "ac534f20-a36f-4f24-9c8e-a9cc101f988c",
   "metadata": {},
   "source": [
    "### 26. Write a program that simulates a basic quiz game with multiple-choice questions and scoring."
   ]
  },
  {
   "cell_type": "code",
   "execution_count": 9,
   "id": "919366e0-0db0-4e69-ba5b-6f3edd1ba300",
   "metadata": {},
   "outputs": [
    {
     "name": "stdout",
     "output_type": "stream",
     "text": [
      "What is the purpose of the if statement in programming?\n",
      "1. Looping\n",
      "2. Decision making\n",
      "3. Function definition\n",
      "4. Variable assignment\n"
     ]
    },
    {
     "name": "stdin",
     "output_type": "stream",
     "text": [
      "Enter your answer (1, 2, 3, or 4):  2\n"
     ]
    },
    {
     "name": "stdout",
     "output_type": "stream",
     "text": [
      "\n",
      "Which of the following is a correct way to declare a variable in Python?\n",
      "1. variable = value;\n",
      "2. $variable = value\n",
      "3. variable := value\n",
      "4. variable = value\n"
     ]
    },
    {
     "name": "stdin",
     "output_type": "stream",
     "text": [
      "Enter your answer (1, 2, 3, or 4):  4\n"
     ]
    },
    {
     "name": "stdout",
     "output_type": "stream",
     "text": [
      "\n",
      "What does the acronym 'IDE' stand for in programming?\n",
      "1. Integrated Development Environment\n",
      "2. Interactive Data Exchange\n",
      "3. Intelligent Design Environment\n",
      "4. Internal Documentation Engine\n"
     ]
    },
    {
     "name": "stdin",
     "output_type": "stream",
     "text": [
      "Enter your answer (1, 2, 3, or 4):  1\n"
     ]
    },
    {
     "name": "stdout",
     "output_type": "stream",
     "text": [
      "\n",
      "Which of the following is used to comment a single line in Python?\n",
      "1. /* Comment */\n",
      "2. <!-- Comment -->\n",
      "3. # Comment\n",
      "4. * Comment *\n"
     ]
    },
    {
     "name": "stdin",
     "output_type": "stream",
     "text": [
      "Enter your answer (1, 2, 3, or 4):  3\n"
     ]
    },
    {
     "name": "stdout",
     "output_type": "stream",
     "text": [
      "\n",
      "In Python, what is the purpose of the else statement in an if-else construct?\n",
      "1. To define a function\n",
      "2. To create a loop\n",
      "3. To handle the case when the if condition is not met\n",
      "4. To break out of a loop\n"
     ]
    },
    {
     "name": "stdin",
     "output_type": "stream",
     "text": [
      "Enter your answer (1, 2, 3, or 4):  3\n"
     ]
    },
    {
     "name": "stdout",
     "output_type": "stream",
     "text": [
      "you scored 5 marks\n"
     ]
    }
   ],
   "source": [
    "i = 1\n",
    "score = 0\n",
    "\n",
    "while i==1:\n",
    "   \n",
    "    # Question 1\n",
    "    print(\"What is the purpose of the if statement in programming?\\n1. Looping\\n2. Decision making\\n3. Function definition\\n4. Variable assignment\")\n",
    "    choice = int(input(\"Enter your answer (1, 2, 3, or 4): \"))\n",
    "    if choice == 2:\n",
    "        score = score+1\n",
    "    \n",
    "    # Question 2\n",
    "    print(\"\\nWhich of the following is a correct way to declare a variable in Python?\\n1. variable = value;\\n2. $variable = value\\n3. variable := value\\n4. variable = value\")\n",
    "    choice = int(input(\"Enter your answer (1, 2, 3, or 4): \"))\n",
    "    if choice == 4:\n",
    "        score = score+1\n",
    "        \n",
    "    # Question 3\n",
    "    print(\"\\nWhat does the acronym 'IDE' stand for in programming?\\n1. Integrated Development Environment\\n2. Interactive Data Exchange\\n3. Intelligent Design Environment\\n4. Internal Documentation Engine\")\n",
    "    choice = int(input(\"Enter your answer (1, 2, 3, or 4): \"))\n",
    "    if choice == 1:\n",
    "        score = score+1\n",
    "        \n",
    "    # Question 4\n",
    "    print(\"\\nWhich of the following is used to comment a single line in Python?\\n1. /* Comment */\\n2. <!-- Comment -->\\n3. # Comment\\n4. * Comment *\")\n",
    "    choice = int(input(\"Enter your answer (1, 2, 3, or 4): \"))\n",
    "    if choice == 3:\n",
    "        score = score+1\n",
    "\n",
    "    # Question 5\n",
    "    print(\"\\nIn Python, what is the purpose of the else statement in an if-else construct?\\n1. To define a function\\n2. To create a loop\\n3. To handle the case when the if condition is not met\\n4. To break out of a loop\")\n",
    "    choice = int(input(\"Enter your answer (1, 2, 3, or 4): \"))\n",
    "    if choice == 3:\n",
    "        score = score+1\n",
    "\n",
    "    i = 0\n",
    "\n",
    "print(f\"you scored {score} marks\")\n",
    "    "
   ]
  },
  {
   "cell_type": "markdown",
   "id": "0b06da06-3d43-4f59-bcde-0f7d76c5e504",
   "metadata": {},
   "source": [
    "### 27. Develop a program that determines whether a given year is a prime number or not."
   ]
  },
  {
   "cell_type": "code",
   "execution_count": 8,
   "id": "85697937-1396-4493-8e6d-0992a81d78b5",
   "metadata": {},
   "outputs": [
    {
     "name": "stdout",
     "output_type": "stream",
     "text": [
      "2023 is not a prime number\n"
     ]
    }
   ],
   "source": [
    "year = 2023\n",
    "def isprime(n):\n",
    "    if n<2:\n",
    "        return False\n",
    "    elif n == 2:\n",
    "        return True\n",
    "    else:\n",
    "        for i in range (2,int(n**0.5)+1):\n",
    "            if n%i==0:\n",
    "                return False\n",
    "        return True\n",
    "if isprime(year) == True:\n",
    "    print(f\"{year} is a prime number\")\n",
    "else:\n",
    "    print(f\"{year} is not a prime number\")\n"
   ]
  },
  {
   "cell_type": "markdown",
   "id": "43687517-2eea-4289-8b73-7d1e46632bd3",
   "metadata": {},
   "source": [
    "### 28. Create a program that sorts three numbers in ascending order using conditional statements."
   ]
  },
  {
   "cell_type": "code",
   "execution_count": 59,
   "id": "8c3ac8ec-8e6a-4f6a-b39a-145b17f980f2",
   "metadata": {},
   "outputs": [
    {
     "name": "stdout",
     "output_type": "stream",
     "text": [
      "numbers is in ascending order is 3 ,5, 7\n"
     ]
    }
   ],
   "source": [
    "a=7\n",
    "b=3\n",
    "c=5\n",
    "\n",
    "if a>=b:\n",
    "    if a>=c :\n",
    "        if b>=c:\n",
    "            print(f\"numbers is in ascending order is {c} ,{b}, {a}\")\n",
    "        else:\n",
    "            print(f\"numbers is in ascending order is {b} ,{c}, {a}\")\n",
    "    else:\n",
    "        print(f\"numbers is in ascending order is {b} ,{a}, {c}\")\n",
    "        \n",
    "elif b>=a:\n",
    "    if b>=c :\n",
    "        if a>=c:\n",
    "            print(f\"numbers is in ascending order is {c} ,{a}, {b}\")\n",
    "        else:\n",
    "            print(f\"numbers is in ascending order is {a} ,{c}, {b}\")\n",
    "    else :\n",
    "        print(f\"numbers is in ascending order is {a} ,{b}, {c}\")\n",
    "        \n",
    "        \n",
    "elif c>=a:\n",
    "    if c>=b:\n",
    "        if a>=b:\n",
    "            print(f\"numbers is in ascending order is {b} ,{a}, {c}\")\n",
    "        else:\n",
    "            print(f\"numbers is in ascending order is {a} ,{b}, {c}\")"
   ]
  },
  {
   "cell_type": "markdown",
   "id": "ed37fe3f-db08-4f47-9cbd-82112958b113",
   "metadata": {},
   "source": [
    "### 29. Build a program that determines the roots of a quartic equation using numerical methods."
   ]
  },
  {
   "cell_type": "code",
   "execution_count": 3,
   "id": "0f98d0c3-8c28-46f4-8d88-a9c2ddde7e41",
   "metadata": {},
   "outputs": [
    {
     "name": "stdout",
     "output_type": "stream",
     "text": [
      "Quartic Equation Solver using Newton's Method\n",
      "\n",
      "Root found: 1.0\n"
     ]
    }
   ],
   "source": [
    "def quartic_equation(x, coefficients):\n",
    "    return sum(a * (x ** i) for i, a in enumerate(coefficients))\n",
    "\n",
    "def derivative_quartic_equation(x, coefficients):\n",
    "    return sum(i * a * (x ** (i - 1)) for i, a in enumerate(coefficients) if i > 0)\n",
    "\n",
    "def newton_method(initial_guess, coefficients, tolerance=1e-6, max_iterations=100):\n",
    "    x = initial_guess\n",
    "\n",
    "    for _ in range(max_iterations):\n",
    "        f_x = quartic_equation(x, coefficients)\n",
    "        f_prime_x = derivative_quartic_equation(x, coefficients)\n",
    "\n",
    "        if abs(f_prime_x) < tolerance:\n",
    "            break\n",
    "\n",
    "        x = x - f_x / f_prime_x\n",
    "\n",
    "        if abs(f_x) < tolerance:\n",
    "            break\n",
    "\n",
    "    return x\n",
    "\n",
    "def main():\n",
    "    print(\"Quartic Equation Solver using Newton's Method\\n\")\n",
    "\n",
    "    # Example: coefficients of the quartic equation ax^4 + bx^3 + cx^2 + dx + e = 0\n",
    "    coefficients = [1, -10, 35, -50, 24]\n",
    "\n",
    "    # Initial guess for the root\n",
    "    initial_guess = 1.0\n",
    "\n",
    "    root = newton_method(initial_guess, coefficients)\n",
    "\n",
    "    print(f\"Root found: {root}\")\n",
    "\n",
    "if __name__ == \"__main__\":\n",
    "    main()\n"
   ]
  },
  {
   "cell_type": "markdown",
   "id": "1edc47fa-a19a-4ddd-9417-bd06bb659c0d",
   "metadata": {},
   "source": [
    "### 30. Write a program that calculates the BMI (Body Mass Index) and provides health recommendations based on the user's input."
   ]
  },
  {
   "cell_type": "code",
   "execution_count": 61,
   "id": "c874beef-5690-4284-a289-e4bbe5823127",
   "metadata": {},
   "outputs": [
    {
     "name": "stdout",
     "output_type": "stream",
     "text": [
      "\n",
      "Your BMI is: 19.16\n",
      "You are classified as: Normal weight\n",
      "Recommendation: Maintain a healthy diet and regular physical activity.\n"
     ]
    }
   ],
   "source": [
    "weight = 58\n",
    "height = 1.74\n",
    "\n",
    "bmi = weight / (height ** 2)\n",
    "\n",
    "if bmi < 18.5:\n",
    "    bmi_category = \"Underweight\"\n",
    "    recommendation = \"Consider gaining some weight to reach a healthier BMI range.\"\n",
    "elif 18.5 <= bmi < 24.9:\n",
    "    bmi_category = \"Normal weight\"\n",
    "    recommendation = \"Maintain a healthy diet and regular physical activity.\"\n",
    "elif 25 <= bmi < 29.9:\n",
    "    bmi_category = \"Overweight\"\n",
    "    recommendation = \"Consider losing weight through a balanced diet and exercise.\"\n",
    "else:\n",
    "    bmi_category = \"Obese\"\n",
    "    recommendation = \"Seek guidance from a healthcare professional for managing obesity.\"\n",
    "\n",
    "print(f\"\\nYour BMI is: {bmi:.2f}\")\n",
    "print(f\"You are classified as: {bmi_category}\")\n",
    "print(f\"Recommendation: {recommendation}\")\n"
   ]
  },
  {
   "cell_type": "markdown",
   "id": "c5dc6a83-f8a0-4b6c-b4e9-f61fb4be94c9",
   "metadata": {},
   "source": [
    "### 31. Create a program that validates a password based on complexity rules (length, characters, etc.)."
   ]
  },
  {
   "cell_type": "code",
   "execution_count": 63,
   "id": "9f6f1a87-a322-4f08-bfda-24df59e9d3e7",
   "metadata": {},
   "outputs": [
    {
     "name": "stdout",
     "output_type": "stream",
     "text": [
      "Password is valid!\n"
     ]
    }
   ],
   "source": [
    "password = 'QFyg@#$123'\n",
    "\n",
    "min_length = 8\n",
    "contains_uppercase = False\n",
    "contains_lowercase = False\n",
    "contains_digit = False\n",
    "contains_special_char = False\n",
    "special_characters = \"!@#$%^&*()_-+=<>?/[]{}|\"\n",
    "\n",
    "if len(password) < min_length:\n",
    "    print(\"Password must be at least 8 characters long.\")\n",
    "else:\n",
    "    for char in password:\n",
    "        if char.isupper():\n",
    "            contains_uppercase = True\n",
    "        elif char.islower():\n",
    "            contains_lowercase = True\n",
    "        elif char.isdigit():\n",
    "            contains_digit = True\n",
    "        elif char in special_characters:\n",
    "            contains_special_char = True\n",
    "\n",
    "    if not contains_uppercase:\n",
    "        print(\"Password must contain at least one uppercase letter.\")\n",
    "    if not contains_lowercase:\n",
    "        print(\"Password must contain at least one lowercase letter.\")\n",
    "    if not contains_digit:\n",
    "        print(\"Password must contain at least one digit.\")\n",
    "    if not contains_special_char:\n",
    "        print(\"Password must contain at least one special character (!@#$%^&*()_-+=<>?/[]{}|).\")\n",
    "\n",
    "    if contains_uppercase and contains_lowercase and contains_digit and contains_special_char:\n",
    "        print(\"Password is valid!\")\n"
   ]
  },
  {
   "cell_type": "markdown",
   "id": "01404d93-a517-4ca4-b39b-5343c027bbc3",
   "metadata": {},
   "source": [
    "### 32. Develop a program that performs matrix addition and subtraction based on user input."
   ]
  },
  {
   "cell_type": "code",
   "execution_count": 1,
   "id": "81f44115-9391-483e-9806-2c940632d83c",
   "metadata": {},
   "outputs": [
    {
     "name": "stdin",
     "output_type": "stream",
     "text": [
      "Enter the number of rows for the matrices:  1\n",
      "Enter the number of columns for the matrices:  2\n"
     ]
    },
    {
     "name": "stdout",
     "output_type": "stream",
     "text": [
      "\n",
      "Enter values for Matrix 1:\n"
     ]
    },
    {
     "name": "stdin",
     "output_type": "stream",
     "text": [
      "Enter value for Matrix 1 [1][1]:  2\n",
      "Enter value for Matrix 1 [1][2]:  3\n"
     ]
    },
    {
     "name": "stdout",
     "output_type": "stream",
     "text": [
      "\n",
      "Enter values for Matrix 2:\n"
     ]
    },
    {
     "name": "stdin",
     "output_type": "stream",
     "text": [
      "Enter value for Matrix 2 [1][1]:  6\n",
      "Enter value for Matrix 2 [1][2]:  7\n"
     ]
    },
    {
     "name": "stdout",
     "output_type": "stream",
     "text": [
      "\n",
      "Matrix 1:\n",
      "[2, 3]\n",
      "\n",
      "Matrix 2:\n",
      "[6, 7]\n",
      "\n",
      "Matrix Addition:\n",
      "[8, 10]\n",
      "\n",
      "Matrix Subtraction:\n",
      "[-4, -4]\n"
     ]
    }
   ],
   "source": [
    "rows = int(input(\"Enter the number of rows for the matrices: \"))\n",
    "cols = int(input(\"Enter the number of columns for the matrices: \"))\n",
    "\n",
    "matrix1 = []\n",
    "matrix2 = []\n",
    "\n",
    "print(\"\\nEnter values for Matrix 1:\")\n",
    "for i in range(rows):\n",
    "    row_values = [int(input(f\"Enter value for Matrix 1 [{i + 1}][{j + 1}]: \")) for j in range(cols)]\n",
    "    matrix1.append(row_values)\n",
    "\n",
    "print(\"\\nEnter values for Matrix 2:\")\n",
    "for i in range(rows):\n",
    "    row_values = [int(input(f\"Enter value for Matrix 2 [{i + 1}][{j + 1}]: \")) for j in range(cols)]\n",
    "    matrix2.append(row_values)\n",
    "\n",
    "sum_matrix = [[matrix1[i][j] + matrix2[i][j] for j in range(cols)] for i in range(rows)]\n",
    "difference_matrix = [[matrix1[i][j] - matrix2[i][j] for j in range(cols)] for i in range(rows)]\n",
    "\n",
    "print(\"\\nMatrix 1:\")\n",
    "for row in matrix1:\n",
    "    print(row)\n",
    "\n",
    "print(\"\\nMatrix 2:\")\n",
    "for row in matrix2:\n",
    "    print(row)\n",
    "\n",
    "print(\"\\nMatrix Addition:\")\n",
    "for row in sum_matrix:\n",
    "    print(row)\n",
    "\n",
    "print(\"\\nMatrix Subtraction:\")\n",
    "for row in difference_matrix:\n",
    "    print(row)\n"
   ]
  },
  {
   "cell_type": "markdown",
   "id": "36a1c99a-3e4c-4ed8-9efa-e159b926f2a4",
   "metadata": {},
   "source": [
    "### 33. Write a program that calculates the greatest common divisor (GCD) of two numbers using the Euclidean algorithm."
   ]
  },
  {
   "cell_type": "code",
   "execution_count": 7,
   "id": "be0ee800-4f17-47e2-81f0-55ccc56f0fd1",
   "metadata": {},
   "outputs": [
    {
     "name": "stdout",
     "output_type": "stream",
     "text": [
      "GCD of 48 and 18 is 6\n"
     ]
    }
   ],
   "source": [
    "def gcd(a,b):\n",
    "    if b == 0:\n",
    "        return a\n",
    "    else:\n",
    "        return gcd(b,a%b)\n",
    "\n",
    "\n",
    "num1 = 48\n",
    "num2 = 18\n",
    "print(f\"GCD of {num1} and {num2} is {gcd(num1,num2)}\")"
   ]
  },
  {
   "cell_type": "markdown",
   "id": "b1241902-7b1e-4d6d-91b9-d2d7a2b49de7",
   "metadata": {},
   "source": [
    "### 34. Build a program that performs matrix multiplication using nested loops and conditional statements."
   ]
  },
  {
   "cell_type": "code",
   "execution_count": 13,
   "id": "2615f73a-06d0-4a62-9ae2-724a5ba2b5a1",
   "metadata": {},
   "outputs": [
    {
     "name": "stdin",
     "output_type": "stream",
     "text": [
      "Enter the number of rows for the matrices 1:  2\n",
      "Enter the number of columns for the matrices 1:  2\n",
      "Enter the number of rows for the matrices 2:  2\n",
      "Enter the number of columns for the matrices 2:  2\n"
     ]
    },
    {
     "name": "stdout",
     "output_type": "stream",
     "text": [
      "\n",
      "Enter values for Matrix 1:\n"
     ]
    },
    {
     "name": "stdin",
     "output_type": "stream",
     "text": [
      "Enter value for Matrix 1 [1][1]:  3\n",
      "Enter value for Matrix 1 [1][2]:  4\n",
      "Enter value for Matrix 1 [2][1]:  1\n",
      "Enter value for Matrix 1 [2][2]:  5\n"
     ]
    },
    {
     "name": "stdout",
     "output_type": "stream",
     "text": [
      "\n",
      "Enter values for Matrix 2:\n"
     ]
    },
    {
     "name": "stdin",
     "output_type": "stream",
     "text": [
      "Enter value for Matrix 2 [1][1]:  2\n",
      "Enter value for Matrix 2 [1][2]:  6\n",
      "Enter value for Matrix 2 [2][1]:  3\n",
      "Enter value for Matrix 2 [2][2]:  1\n"
     ]
    },
    {
     "name": "stdout",
     "output_type": "stream",
     "text": [
      "\n",
      "Matrix 1:\n",
      "[3, 4]\n",
      "[1, 5]\n",
      "\n",
      "Matrix 2:\n",
      "[2, 6]\n",
      "[3, 1]\n",
      "\n",
      "Matrix Addition:\n",
      "[12, 34]\n",
      "[15, 26]\n"
     ]
    }
   ],
   "source": [
    "r1 = int(input(\"Enter the number of rows for the matrices 1: \"))\n",
    "c1 = int(input(\"Enter the number of columns for the matrices 1: \"))\n",
    "\n",
    "r2 = int(input(\"Enter the number of rows for the matrices 2: \"))\n",
    "c2 = int(input(\"Enter the number of columns for the matrices 2: \"))\n",
    "\n",
    "\n",
    "\n",
    "matrix1 = []\n",
    "matrix2 = []\n",
    "\n",
    "print(\"\\nEnter values for Matrix 1:\")\n",
    "for i in range(r1):\n",
    "    row_values = [int(input(f\"Enter value for Matrix 1 [{i + 1}][{j + 1}]: \")) for j in range(c1)]\n",
    "    matrix1.append(row_values)\n",
    "\n",
    "print(\"\\nEnter values for Matrix 2:\")\n",
    "for i in range(r2):\n",
    "    row_values = [int(input(f\"Enter value for Matrix 2 [{i + 1}][{j + 1}]: \")) for j in range(c2)]\n",
    "    matrix2.append(row_values)\n",
    "\n",
    "mul_matrix = [[0 for _ in range(c2)] for _ in range(r1)]\n",
    "for i in range(r1):\n",
    "    for j in range(c2):\n",
    "        for k in range(c1):\n",
    "            mul_matrix[i][j] = mul_matrix[i][k]+ matrix1[i][k]*matrix2[k][j]\n",
    "            \n",
    "\n",
    "print(\"\\nMatrix 1:\")\n",
    "for row in matrix1:\n",
    "    print(row)\n",
    "\n",
    "print(\"\\nMatrix 2:\")\n",
    "for row in matrix2:\n",
    "    print(row)\n",
    "\n",
    "print(\"\\nMatrix Addition:\")\n",
    "for row in mul_matrix:\n",
    "    print(row)"
   ]
  },
  {
   "cell_type": "markdown",
   "id": "d5371a29-1861-4329-8f1f-c0ab97a979cd",
   "metadata": {},
   "source": [
    "### 35. Create a program that simulates a basic text-based tic-tac-toe game against the computer."
   ]
  },
  {
   "cell_type": "code",
   "execution_count": 4,
   "id": "a62cbaab-8e97-4a75-936d-9a17225a4e46",
   "metadata": {},
   "outputs": [
    {
     "name": "stdout",
     "output_type": "stream",
     "text": [
      "Welcome to Tic-Tac-Toe!\n",
      "  |   |  \n",
      "-------------\n",
      "  |   |  \n",
      "-------------\n",
      "  |   |  \n",
      "-------------\n"
     ]
    },
    {
     "name": "stdin",
     "output_type": "stream",
     "text": [
      "Enter the row (1, 2, or 3):  2\n",
      "Enter the column (1, 2, or 3):  1\n"
     ]
    },
    {
     "name": "stdout",
     "output_type": "stream",
     "text": [
      "  |   |  \n",
      "-------------\n",
      "X |   |  \n",
      "-------------\n",
      "  |   |  \n",
      "-------------\n",
      "Computer's move:\n",
      "  |   |  \n",
      "-------------\n",
      "X |   |  \n",
      "-------------\n",
      "O |   |  \n",
      "-------------\n"
     ]
    },
    {
     "name": "stdin",
     "output_type": "stream",
     "text": [
      "Enter the row (1, 2, or 3):  2\n",
      "Enter the column (1, 2, or 3):  1\n"
     ]
    },
    {
     "name": "stdout",
     "output_type": "stream",
     "text": [
      "Invalid move. Try again.\n"
     ]
    },
    {
     "name": "stdin",
     "output_type": "stream",
     "text": [
      "Enter the row (1, 2, or 3):  2\n",
      "Enter the column (1, 2, or 3):  3\n"
     ]
    },
    {
     "name": "stdout",
     "output_type": "stream",
     "text": [
      "  |   |  \n",
      "-------------\n",
      "X |   | X\n",
      "-------------\n",
      "O |   |  \n",
      "-------------\n",
      "Computer's move:\n",
      "  |   | O\n",
      "-------------\n",
      "X |   | X\n",
      "-------------\n",
      "O |   |  \n",
      "-------------\n"
     ]
    },
    {
     "name": "stdin",
     "output_type": "stream",
     "text": [
      "Enter the row (1, 2, or 3):  1\n",
      "Enter the column (1, 2, or 3):  2\n"
     ]
    },
    {
     "name": "stdout",
     "output_type": "stream",
     "text": [
      "  | X | O\n",
      "-------------\n",
      "X |   | X\n",
      "-------------\n",
      "O |   |  \n",
      "-------------\n",
      "Computer's move:\n",
      "  | X | O\n",
      "-------------\n",
      "X | O | X\n",
      "-------------\n",
      "O |   |  \n",
      "-------------\n",
      "Computer wins! Better luck next time.\n"
     ]
    }
   ],
   "source": [
    "import random\n",
    "\n",
    "def print_board(board):\n",
    "    for row in board:\n",
    "        print(\" | \".join(row))\n",
    "        print(\"-\" * 13)\n",
    "\n",
    "def is_winner(board, player):\n",
    "    # Check rows, columns, and diagonals\n",
    "    for i in range(3):\n",
    "        if all(board[i][j] == player for j in range(3)) or all(board[j][i] == player for j in range(3)):\n",
    "            return True\n",
    "    if all(board[i][i] == player for i in range(3)) or all(board[i][2 - i] == player for i in range(3)):\n",
    "        return True\n",
    "    return False\n",
    "\n",
    "def is_board_full(board):\n",
    "    return all(board[i][j] != ' ' for i in range(3) for j in range(3))\n",
    "\n",
    "def player_move(board):\n",
    "    while True:\n",
    "        try:\n",
    "            row = int(input(\"Enter the row (1, 2, or 3): \")) - 1\n",
    "            col = int(input(\"Enter the column (1, 2, or 3): \")) - 1\n",
    "            if 0 <= row < 3 and 0 <= col < 3 and board[row][col] == ' ':\n",
    "                return row, col\n",
    "            else:\n",
    "                print(\"Invalid move. Try again.\")\n",
    "        except ValueError:\n",
    "            print(\"Invalid input. Enter a number.\")\n",
    "\n",
    "def computer_move(board):\n",
    "    empty_cells = [(i, j) for i in range(3) for j in range(3) if board[i][j] == ' ']\n",
    "    return random.choice(empty_cells)\n",
    "\n",
    "def play_tic_tac_toe():\n",
    "    board = [[' ' for _ in range(3)] for _ in range(3)]\n",
    "    player_symbol = 'X'\n",
    "    computer_symbol = 'O'\n",
    "\n",
    "    print(\"Welcome to Tic-Tac-Toe!\")\n",
    "    print_board(board)\n",
    "\n",
    "    while True:\n",
    "        # Player's move\n",
    "        player_row, player_col = player_move(board)\n",
    "        board[player_row][player_col] = player_symbol\n",
    "        print_board(board)\n",
    "\n",
    "        # Check if player wins\n",
    "        if is_winner(board, player_symbol):\n",
    "            print(\"Congratulations! You win!\")\n",
    "            break\n",
    "\n",
    "        # Check if it's a tie\n",
    "        if is_board_full(board):\n",
    "            print(\"It's a tie!\")\n",
    "            break\n",
    "\n",
    "        # Computer's move\n",
    "        print(\"Computer's move:\")\n",
    "        computer_row, computer_col = computer_move(board)\n",
    "        board[computer_row][computer_col] = computer_symbol\n",
    "        print_board(board)\n",
    "\n",
    "        # Check if computer wins\n",
    "        if is_winner(board, computer_symbol):\n",
    "            print(\"Computer wins! Better luck next time.\")\n",
    "            break\n",
    "\n",
    "        # Check if it's a tie\n",
    "        if is_board_full(board):\n",
    "            print(\"It's a tie!\")\n",
    "            break\n",
    "\n",
    "if __name__ == \"__main__\":\n",
    "    play_tic_tac_toe()\n"
   ]
  },
  {
   "cell_type": "markdown",
   "id": "c29bed98-9609-45dc-b4a4-9080ac17b112",
   "metadata": {},
   "source": [
    "### 36. Write a program that generates Fibonacci numbers up to a specified term using iterative methods."
   ]
  },
  {
   "cell_type": "code",
   "execution_count": 2,
   "id": "bd35b8ed-a64f-432c-92b9-ba15770795d8",
   "metadata": {},
   "outputs": [
    {
     "name": "stdout",
     "output_type": "stream",
     "text": [
      "0\n",
      "1\n",
      "1\n",
      "2\n",
      "3\n",
      "5\n",
      "8\n",
      "13\n",
      "21\n",
      "34\n"
     ]
    }
   ],
   "source": [
    "num = 50\n",
    "a,b = 0,1\n",
    "while a<=num:\n",
    "    print(a)\n",
    "    a,b = b,a+b"
   ]
  },
  {
   "cell_type": "markdown",
   "id": "5c90a1ad-823a-4c23-aab5-7f3c448a0716",
   "metadata": {},
   "source": [
    "### 37. Develop a program that calculates the nth term of the Fibonacci sequence using memoization."
   ]
  },
  {
   "cell_type": "code",
   "execution_count": 3,
   "id": "68315986-909e-4e89-8a26-91cd5f5974f6",
   "metadata": {},
   "outputs": [
    {
     "name": "stdout",
     "output_type": "stream",
     "text": [
      "34\n"
     ]
    }
   ],
   "source": [
    "nth =  10\n",
    "a,b = 0,1\n",
    "fibb = 0\n",
    "for i in range (nth):\n",
    "    fibb = a\n",
    "    a,b = b,a+b\n",
    "\n",
    "print(fibb)"
   ]
  },
  {
   "cell_type": "markdown",
   "id": "67008305-2188-43d9-93db-9df219b00bb9",
   "metadata": {},
   "source": [
    "### 38. Create a program that generates a calendar for a given month and year using conditional statements."
   ]
  },
  {
   "cell_type": "code",
   "execution_count": 5,
   "id": "4e559f9a-5508-4ac7-8b24-60fd1c02db57",
   "metadata": {},
   "outputs": [
    {
     "name": "stdout",
     "output_type": "stream",
     "text": [
      "Calendar for February 2024:\n",
      "\n",
      "   February 2024\n",
      "Mo Tu We Th Fr Sa Su\n",
      "          1  2  3  4\n",
      " 5  6  7  8  9 10 11\n",
      "12 13 14 15 16 17 18\n",
      "19 20 21 22 23 24 25\n",
      "26 27 28 29\n",
      "\n"
     ]
    }
   ],
   "source": [
    "import calendar\n",
    "\n",
    "year = 2024\n",
    "month = 2  \n",
    "\n",
    "cal = calendar.month(year, month)\n",
    "print(f\"Calendar for {calendar.month_name[month]} {year}:\\n\")\n",
    "print(cal)\n"
   ]
  },
  {
   "cell_type": "markdown",
   "id": "24ec4bdd-eb5e-4975-bc66-20f814207d9f",
   "metadata": {},
   "source": [
    "### 39. Build a program that simulates a basic text-based blackjack game against the computer."
   ]
  },
  {
   "cell_type": "code",
   "execution_count": 5,
   "id": "4b66c3be-c2a4-4a7f-976b-35f451d0ee92",
   "metadata": {},
   "outputs": [
    {
     "name": "stdout",
     "output_type": "stream",
     "text": [
      "\n",
      "Your Turn:\n",
      "Hand:\n",
      "4 of Spades\n",
      "K of Spades\n",
      "\n",
      "Your hand value: 14\n"
     ]
    },
    {
     "name": "stdin",
     "output_type": "stream",
     "text": [
      "Do you want to 'hit' or 'stand'?  hit\n"
     ]
    },
    {
     "name": "stdout",
     "output_type": "stream",
     "text": [
      "\n",
      "Your Turn:\n",
      "Hand:\n",
      "4 of Spades\n",
      "K of Spades\n",
      "A of Hearts\n",
      "\n",
      "Your hand value: 15\n"
     ]
    },
    {
     "name": "stdin",
     "output_type": "stream",
     "text": [
      "Do you want to 'hit' or 'stand'?  hit\n"
     ]
    },
    {
     "name": "stdout",
     "output_type": "stream",
     "text": [
      "\n",
      "Your Turn:\n",
      "Hand:\n",
      "4 of Spades\n",
      "K of Spades\n",
      "A of Hearts\n",
      "2 of Hearts\n",
      "\n",
      "Your hand value: 17\n"
     ]
    },
    {
     "name": "stdin",
     "output_type": "stream",
     "text": [
      "Do you want to 'hit' or 'stand'?  stand\n"
     ]
    },
    {
     "name": "stdout",
     "output_type": "stream",
     "text": [
      "\n",
      "Computer's Turn:\n",
      "Hand:\n",
      "[Hidden]\n",
      "3 of Clubs\n",
      "\n",
      "Computer hits.\n",
      "Computer hits.\n",
      "\n",
      "Final Result:\n",
      "Hand:\n",
      "4 of Spades\n",
      "K of Spades\n",
      "A of Hearts\n",
      "2 of Hearts\n",
      "\n",
      "Your hand value: 17\n",
      "Hand:\n",
      "3 of Spades\n",
      "3 of Clubs\n",
      "J of Hearts\n",
      "5 of Spades\n",
      "\n",
      "Computer's hand value: 21\n",
      "Computer wins. Better luck next time.\n"
     ]
    }
   ],
   "source": [
    "import random\n",
    "\n",
    "def initialize_deck():\n",
    "    ranks = ['2', '3', '4', '5', '6', '7', '8', '9', '10', 'J', 'Q', 'K', 'A']\n",
    "    suits = ['Hearts', 'Diamonds', 'Clubs', 'Spades']\n",
    "    deck = [{'rank': rank, 'suit': suit} for rank in ranks for suit in suits]\n",
    "    random.shuffle(deck)\n",
    "    return deck\n",
    "\n",
    "def calculate_hand_value(hand):\n",
    "    value = 0\n",
    "    num_aces = 0\n",
    "\n",
    "    for card in hand:\n",
    "        rank = card['rank']\n",
    "        if rank.isdigit():\n",
    "            value += int(rank)\n",
    "        elif rank in ['J', 'Q', 'K']:\n",
    "            value += 10\n",
    "        elif rank == 'A':\n",
    "            value += 11\n",
    "            num_aces += 1\n",
    "\n",
    "    while value > 21 and num_aces > 0:\n",
    "        value -= 10\n",
    "        num_aces -= 1\n",
    "\n",
    "    return value\n",
    "\n",
    "def display_hand(hand, hide_first_card=False):\n",
    "    print(\"Hand:\")\n",
    "    for i, card in enumerate(hand):\n",
    "        if i == 0 and hide_first_card:\n",
    "            print(\"[Hidden]\")\n",
    "        else:\n",
    "            print(f\"{card['rank']} of {card['suit']}\")\n",
    "    print(\"\")\n",
    "\n",
    "def play_blackjack():\n",
    "    player_hand = []\n",
    "    computer_hand = []\n",
    "    deck = initialize_deck()\n",
    "\n",
    "    # Initial deal\n",
    "    player_hand.append(deck.pop())\n",
    "    computer_hand.append(deck.pop())\n",
    "    player_hand.append(deck.pop())\n",
    "    computer_hand.append(deck.pop())\n",
    "\n",
    "    while True:\n",
    "        # Player's turn\n",
    "        print(\"\\nYour Turn:\")\n",
    "        display_hand(player_hand)\n",
    "        player_value = calculate_hand_value(player_hand)\n",
    "        print(f\"Your hand value: {player_value}\")\n",
    "\n",
    "        if player_value == 21:\n",
    "            print(\"Blackjack! You win!\")\n",
    "            break\n",
    "        elif player_value > 21:\n",
    "            print(\"Bust! You lose.\")\n",
    "            break\n",
    "\n",
    "        action = input(\"Do you want to 'hit' or 'stand'? \").lower()\n",
    "        if action == 'hit':\n",
    "            player_hand.append(deck.pop())\n",
    "        elif action == 'stand':\n",
    "            break\n",
    "        else:\n",
    "            print(\"Invalid action. Please enter 'hit' or 'stand'.\")\n",
    "\n",
    "    # Computer's turn\n",
    "    print(\"\\nComputer's Turn:\")\n",
    "    display_hand(computer_hand, hide_first_card=True)\n",
    "    computer_value = calculate_hand_value(computer_hand)\n",
    "\n",
    "    while computer_value < 17:\n",
    "        print(\"Computer hits.\")\n",
    "        computer_hand.append(deck.pop())\n",
    "        computer_value = calculate_hand_value(computer_hand)\n",
    "\n",
    "    print(\"\\nFinal Result:\")\n",
    "    display_hand(player_hand)\n",
    "    print(f\"Your hand value: {calculate_hand_value(player_hand)}\")\n",
    "    display_hand(computer_hand)\n",
    "    print(f\"Computer's hand value: {calculate_hand_value(computer_hand)}\")\n",
    "\n",
    "    if player_value > 21:\n",
    "        print(\"You busted. You lose.\")\n",
    "    elif computer_value > 21 or player_value > computer_value:\n",
    "        print(\"Congratulations! You win!\")\n",
    "    elif player_value < computer_value:\n",
    "        print(\"Computer wins. Better luck next time.\")\n",
    "    else:\n",
    "        print(\"It's a tie!\")\n",
    "\n",
    "if __name__ == \"__main__\":\n",
    "    play_blackjack()\n"
   ]
  },
  {
   "cell_type": "markdown",
   "id": "0d29e05c-1101-4251-aa62-7200fc72db6a",
   "metadata": {},
   "source": [
    "### 40. Write a program that generates the prime factors of a given number using trial division."
   ]
  },
  {
   "cell_type": "code",
   "execution_count": 4,
   "id": "bd54b578-dbbd-4afc-b98e-577f44dacdbd",
   "metadata": {},
   "outputs": [
    {
     "name": "stdout",
     "output_type": "stream",
     "text": [
      "Prime factors of 105: [3, 5, 7]\n"
     ]
    }
   ],
   "source": [
    "def prime_factors(n):\n",
    "    factors = []\n",
    "    divisor = 2\n",
    "\n",
    "    while divisor <= n:\n",
    "        if n % divisor == 0:\n",
    "            factors.append(divisor)\n",
    "            n //= divisor\n",
    "        else:\n",
    "            divisor += 1\n",
    "\n",
    "    return factors\n",
    "\n",
    "num = 105\n",
    "result = prime_factors(num)\n",
    "print(f\"Prime factors of {num}: {result}\")\n",
    "\n"
   ]
  },
  {
   "cell_type": "code",
   "execution_count": 1,
   "id": "73c223e4-8594-425d-a486-e3ebefc60861",
   "metadata": {},
   "outputs": [
    {
     "name": "stdout",
     "output_type": "stream",
     "text": [
      "Welcome to the Text Adventure Game!\n",
      "You find yourself standing at a crossroad.\n",
      "Which path will you choose?\n",
      "1. Go left\n",
      "2. Go right\n"
     ]
    },
    {
     "name": "stdin",
     "output_type": "stream",
     "text": [
      "Enter your choice (1 or 2):  1\n"
     ]
    },
    {
     "name": "stdout",
     "output_type": "stream",
     "text": [
      "You chose the left path.\n",
      "You encounter a friendly NPC.\n",
      "What do you want to do?\n",
      "1. Talk to the NPC\n",
      "2. Ignore the NPC\n"
     ]
    },
    {
     "name": "stdin",
     "output_type": "stream",
     "text": [
      "Enter your choice (1 or 2):  1\n"
     ]
    },
    {
     "name": "stdout",
     "output_type": "stream",
     "text": [
      "The NPC gives you useful information.\n"
     ]
    }
   ],
   "source": [
    "import time\n",
    "\n",
    "def introduction():\n",
    "    print(\"Welcome to the Text Adventure Game!\")\n",
    "    time.sleep(1)\n",
    "    print(\"You find yourself standing at a crossroad.\")\n",
    "    time.sleep(1)\n",
    "    print(\"Which path will you choose?\")\n",
    "\n",
    "def choose_path():\n",
    "    print(\"1. Go left\")\n",
    "    print(\"2. Go right\")\n",
    "    choice = input(\"Enter your choice (1 or 2): \")\n",
    "    return choice\n",
    "\n",
    "def left_path():\n",
    "    print(\"You chose the left path.\")\n",
    "    time.sleep(1)\n",
    "    print(\"You encounter a friendly NPC.\")\n",
    "    time.sleep(1)\n",
    "    print(\"What do you want to do?\")\n",
    "    time.sleep(1)\n",
    "    print(\"1. Talk to the NPC\")\n",
    "    print(\"2. Ignore the NPC\")\n",
    "\n",
    "    choice = input(\"Enter your choice (1 or 2): \")\n",
    "\n",
    "    if choice == \"1\":\n",
    "        print(\"The NPC gives you useful information.\")\n",
    "    else:\n",
    "        print(\"The NPC seems disappointed but you continue on your way.\")\n",
    "\n",
    "def right_path():\n",
    "    print(\"You chose the right path.\")\n",
    "    time.sleep(1)\n",
    "    print(\"You come across a mysterious door.\")\n",
    "    time.sleep(1)\n",
    "    print(\"What do you want to do?\")\n",
    "    time.sleep(1)\n",
    "    print(\"1. Open the door\")\n",
    "    print(\"2. Walk away\")\n",
    "\n",
    "    choice = input(\"Enter your choice (1 or 2): \")\n",
    "\n",
    "    if choice == \"1\":\n",
    "        print(\"You discover a hidden treasure!\")\n",
    "    else:\n",
    "        print(\"You decide to leave the mysterious door alone and continue your journey.\")\n",
    "\n",
    "def main():\n",
    "    introduction()\n",
    "\n",
    "    path_choice = choose_path()\n",
    "\n",
    "    if path_choice == \"1\":\n",
    "        left_path()\n",
    "    elif path_choice == \"2\":\n",
    "        right_path()\n",
    "    else:\n",
    "        print(\"Invalid choice. Please choose 1 or 2.\")\n",
    "\n",
    "if __name__ == \"__main__\":\n",
    "    main()\n"
   ]
  },
  {
   "cell_type": "code",
   "execution_count": null,
   "id": "be2f860b-b436-4070-b3a8-338f096d17ec",
   "metadata": {},
   "outputs": [],
   "source": []
  }
 ],
 "metadata": {
  "kernelspec": {
   "display_name": "Python 3 (ipykernel)",
   "language": "python",
   "name": "python3"
  },
  "language_info": {
   "codemirror_mode": {
    "name": "ipython",
    "version": 3
   },
   "file_extension": ".py",
   "mimetype": "text/x-python",
   "name": "python",
   "nbconvert_exporter": "python",
   "pygments_lexer": "ipython3",
   "version": "3.12.1"
  }
 },
 "nbformat": 4,
 "nbformat_minor": 5
}
