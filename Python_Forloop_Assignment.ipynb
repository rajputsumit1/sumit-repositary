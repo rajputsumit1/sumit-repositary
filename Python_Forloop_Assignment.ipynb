{
 "cells": [
  {
   "cell_type": "markdown",
   "id": "82c1cc0d-5fc7-44a9-823d-f8c992ca3f01",
   "metadata": {},
   "source": [
    "### 1. Write a Python program to print the numbers from 1 to 10 using a for loop."
   ]
  },
  {
   "cell_type": "code",
   "execution_count": 1,
   "id": "bc289847-3177-4334-96fc-2b5010211fca",
   "metadata": {},
   "outputs": [
    {
     "name": "stdout",
     "output_type": "stream",
     "text": [
      "1\n",
      "2\n",
      "3\n",
      "4\n",
      "5\n",
      "6\n",
      "7\n",
      "8\n",
      "9\n",
      "10\n"
     ]
    }
   ],
   "source": [
    "num = 10\n",
    "for i in range(1,num+1):\n",
    "    print(i)"
   ]
  },
  {
   "cell_type": "markdown",
   "id": "974a4005-ee6f-4678-8d5a-c3eecf16c58f",
   "metadata": {},
   "source": [
    "### 2. Create a program that calculates the sum of all numbers in a list using a `for` loop."
   ]
  },
  {
   "cell_type": "code",
   "execution_count": 2,
   "id": "78b26e3b-9064-4025-8635-c18db8246fef",
   "metadata": {},
   "outputs": [
    {
     "name": "stdout",
     "output_type": "stream",
     "text": [
      "sum of all numbers in list is 154\n"
     ]
    }
   ],
   "source": [
    "l =[2,1,4,3,5,8,11,31,44,23,22]\n",
    "Sum = 0\n",
    "for i in l:\n",
    "    Sum = Sum+i\n",
    "print(\"sum of all numbers in list is\",Sum)"
   ]
  },
  {
   "cell_type": "markdown",
   "id": "052d284d-100d-4c51-ae6d-6efb7e17972a",
   "metadata": {},
   "source": [
    "### 3. Write a program to print the characters of a string in reverse order using a `for` loop."
   ]
  },
  {
   "cell_type": "code",
   "execution_count": 3,
   "id": "334c0675-18ec-429e-9140-7bd6c9c2f2b7",
   "metadata": {},
   "outputs": [
    {
     "name": "stdout",
     "output_type": "stream",
     "text": [
      "margorp tsrif ym si ti"
     ]
    }
   ],
   "source": [
    "string = \"it is my first program\"\n",
    "len_str = len(string)\n",
    "for i in range(0,len_str):\n",
    "   print(string[len_str-i-1],end='')"
   ]
  },
  {
   "cell_type": "markdown",
   "id": "bf1c6166-d67c-4054-8abd-20a905627a56",
   "metadata": {},
   "source": [
    "### 4. Develop a program that finds the factorial of a given number using a `for` loop."
   ]
  },
  {
   "cell_type": "code",
   "execution_count": 4,
   "id": "310b5e79-5fda-4aec-aead-4f156a59dca0",
   "metadata": {},
   "outputs": [
    {
     "name": "stdout",
     "output_type": "stream",
     "text": [
      "factorial of 5 is : 120\n"
     ]
    }
   ],
   "source": [
    "num = 5\n",
    "fact=1\n",
    "for i in range(1,num+1):\n",
    "    fact = fact*i\n",
    "print(\"factorial of\",num,\"is :\",fact)"
   ]
  },
  {
   "cell_type": "markdown",
   "id": "d6e974c3-6a54-482f-bb37-b07029e3f7ae",
   "metadata": {},
   "source": [
    "### 5. Create a program to print the multiplication table of a given number using a `for` loop."
   ]
  },
  {
   "cell_type": "code",
   "execution_count": 5,
   "id": "751e8f92-f374-4f58-a21c-e382f396faaa",
   "metadata": {},
   "outputs": [
    {
     "name": "stdout",
     "output_type": "stream",
     "text": [
      "multiplication table of 5 is :\n",
      "5\n",
      "10\n",
      "15\n",
      "20\n",
      "25\n",
      "30\n",
      "35\n",
      "40\n",
      "45\n",
      "50\n"
     ]
    }
   ],
   "source": [
    "num = 5\n",
    "print(\"multiplication table of\",num,\"is :\")\n",
    "for i in range(1,11):\n",
    "    print(num*i)"
   ]
  },
  {
   "cell_type": "markdown",
   "id": "8372c629-78be-4544-a6a0-245b16a03d37",
   "metadata": {},
   "source": [
    "### 6. Write a program that counts the number of even and odd numbers in a list using a `for` loop."
   ]
  },
  {
   "cell_type": "code",
   "execution_count": 6,
   "id": "3521fe6d-1081-4a99-98d0-06c702c314ca",
   "metadata": {},
   "outputs": [
    {
     "name": "stdout",
     "output_type": "stream",
     "text": [
      "number of even numbers 5\n",
      "number of odd numbers 6\n"
     ]
    }
   ],
   "source": [
    "l =[2,1,4,3,5,8,11,31,44,23,22]\n",
    "even = 0\n",
    "odd = 0\n",
    "for i in l:\n",
    "    if(i%2==0):\n",
    "        even=even+1\n",
    "    else:\n",
    "        odd=odd+1\n",
    "print(\"number of even numbers\",even)\n",
    "print(\"number of odd numbers\",odd)"
   ]
  },
  {
   "cell_type": "markdown",
   "id": "424ddbc4-882d-4b28-a45d-f87e115fe7ad",
   "metadata": {},
   "source": [
    "### 7. Develop a program that prints the squares of numbers from 1 to 5 using a `for` loop."
   ]
  },
  {
   "cell_type": "code",
   "execution_count": 7,
   "id": "0bb4b8ca-3bc5-4f15-b5b2-27f073849d6f",
   "metadata": {},
   "outputs": [
    {
     "name": "stdout",
     "output_type": "stream",
     "text": [
      "squares of numbers from 1 to 5\n",
      "1\n",
      "4\n",
      "9\n",
      "16\n",
      "25\n"
     ]
    }
   ],
   "source": [
    "print(\"squares of numbers from 1 to 5\")\n",
    "for i in range(1,6):\n",
    "    print(i*i)"
   ]
  },
  {
   "cell_type": "markdown",
   "id": "1f592dcf-d70b-449f-a2cf-b57c8599340c",
   "metadata": {},
   "source": [
    "### 8. Create a program to find the length of a string without using the `len()` function."
   ]
  },
  {
   "cell_type": "code",
   "execution_count": 8,
   "id": "a3050848-fe79-4d1a-8c4d-a3602fca4ca8",
   "metadata": {},
   "outputs": [
    {
     "name": "stdout",
     "output_type": "stream",
     "text": [
      "length of given string is 28\n"
     ]
    }
   ],
   "source": [
    "string1 = \"this is the my first program\"\n",
    "count=0\n",
    "for i in string1:\n",
    "    count=count+1\n",
    "print(\"length of given string is\",count) "
   ]
  },
  {
   "cell_type": "markdown",
   "id": "14eb8abc-0dbd-41f8-9641-171a44f5cb27",
   "metadata": {},
   "source": [
    "### 9. Write a program that calculates the average of a list of numbers using a `for` loop."
   ]
  },
  {
   "cell_type": "code",
   "execution_count": 9,
   "id": "300b8420-d4ef-4882-a01e-d3272cdddcfc",
   "metadata": {},
   "outputs": [
    {
     "name": "stdout",
     "output_type": "stream",
     "text": [
      "sum of all numbers in list is 154\n",
      "average of all numbers in list is 14.0\n"
     ]
    }
   ],
   "source": [
    "l =[2,1,4,3,5,8,11,31,44,23,22]\n",
    "Sum = 0\n",
    "for i in l:\n",
    "    Sum = Sum+i\n",
    "avg = Sum/len(l)\n",
    "print(\"sum of all numbers in list is\",Sum)\n",
    "print(\"average of all numbers in list is\",avg)"
   ]
  },
  {
   "cell_type": "markdown",
   "id": "a39d7111-0845-4f87-a4a7-316ac8a64166",
   "metadata": {},
   "source": [
    "### 10. Develop a program that prints the first `n` Fibonacci numbers using a `for` loop."
   ]
  },
  {
   "cell_type": "code",
   "execution_count": 10,
   "id": "4b49e70b-a2ee-43b1-94cd-8c3d349f816b",
   "metadata": {},
   "outputs": [
    {
     "name": "stdout",
     "output_type": "stream",
     "text": [
      "0\n",
      "1\n",
      "1\n",
      "2\n",
      "3\n",
      "5\n",
      "8\n",
      "13\n",
      "21\n",
      "34\n"
     ]
    }
   ],
   "source": [
    "num = 10\n",
    "a = 0\n",
    "b = 1\n",
    "c = a+b\n",
    "print(a)\n",
    "for i in range(1,10):\n",
    "    print(c)\n",
    "    c = a+b\n",
    "    a = b\n",
    "    b = c\n",
    "    \n",
    "    "
   ]
  },
  {
   "cell_type": "markdown",
   "id": "0d376141-9535-4441-94a8-d0064eb67068",
   "metadata": {},
   "source": [
    "### 11. Write a program to check if a given list contains any duplicates using a `for` loop."
   ]
  },
  {
   "cell_type": "code",
   "execution_count": 11,
   "id": "c1ef9819-c388-43e7-9aaf-df557d54d6fd",
   "metadata": {},
   "outputs": [
    {
     "name": "stdout",
     "output_type": "stream",
     "text": [
      "duplicate of 2 is found\n",
      "duplicate of 5 is found\n",
      "duplicate of 12 is found\n"
     ]
    }
   ],
   "source": [
    "li = [2,3,4,5,7,2,6,12,8,5,9,10,12]\n",
    "for i in range(0,len(li)):\n",
    "    for j in range(i+1,len(li)):\n",
    "        if(li[i]==li[j]):\n",
    "            print(\"duplicate of\",li[i],\"is found\")"
   ]
  },
  {
   "cell_type": "markdown",
   "id": "e2a1bf11-8fef-404d-9a71-5d3c2ae0a300",
   "metadata": {},
   "source": [
    "### 12. Create a program that prints the prime numbers in a given range using a `for` loop."
   ]
  },
  {
   "cell_type": "code",
   "execution_count": 12,
   "id": "9d460953-db97-4d98-ae34-ca6a95989781",
   "metadata": {},
   "outputs": [
    {
     "name": "stdout",
     "output_type": "stream",
     "text": [
      "5\n",
      "7\n",
      "11\n",
      "13\n",
      "17\n",
      "19\n",
      "23\n",
      "29\n",
      "31\n"
     ]
    }
   ],
   "source": [
    "# find prime number in range 4 to 31\n",
    "lower_lim = 5\n",
    "upper_lim = 31\n",
    "def isprime(i):\n",
    "    if (i<2):\n",
    "        return False\n",
    "    for j in range (2,i):\n",
    "        if(i%j==0):\n",
    "            return False\n",
    "    return True\n",
    "for i in range(lower_lim,upper_lim+1):\n",
    "    if(isprime(i)==True):\n",
    "        print(i)"
   ]
  },
  {
   "cell_type": "markdown",
   "id": "ef2f77f4-799c-4acd-b4ea-de720c5609d8",
   "metadata": {},
   "source": [
    "### 13. Develop a program that counts the number of vowels in a string using a `for`loop"
   ]
  },
  {
   "cell_type": "code",
   "execution_count": 50,
   "id": "c3acdf2f-5416-483b-b5bb-a0a064fa73f7",
   "metadata": {},
   "outputs": [
    {
     "name": "stdout",
     "output_type": "stream",
     "text": [
      "total number of vowels in given string is 12\n"
     ]
    }
   ],
   "source": [
    "string1 =\"it is program for counting vowels AE\"\n",
    "count=0\n",
    "for i in string1:\n",
    "    if i in \"AEIOUaeiou\":\n",
    "        count=count+1\n",
    "print(\"total number of vowels in given string is\",count)"
   ]
  },
  {
   "cell_type": "markdown",
   "id": "86592295-54c5-47e8-b5d5-829c754dbc02",
   "metadata": {},
   "source": [
    "### 14. Write a program to find the maximum element in a 2D list using a nested `for` loop."
   ]
  },
  {
   "cell_type": "code",
   "execution_count": 14,
   "id": "09e4521b-d866-4a9c-86d1-f240f7d4ec0b",
   "metadata": {},
   "outputs": [
    {
     "name": "stdout",
     "output_type": "stream",
     "text": [
      "maximum element is 9\n"
     ]
    }
   ],
   "source": [
    "mat = [\n",
    "    [7,2,3],\n",
    "    [9,5,6],\n",
    "    [5,4,0]\n",
    "]\n",
    "max = mat[1][1]\n",
    "for i in range(0,len(mat)):\n",
    "    for j in range(0,len(mat[1])):\n",
    "        if(mat[i][j]>max):\n",
    "            max=mat[i][j]\n",
    "print(\"maximum element is\",max)"
   ]
  },
  {
   "cell_type": "markdown",
   "id": "4d57e84d-2aab-4e53-8002-34bafe572238",
   "metadata": {},
   "source": [
    "### 15. Create a program that removes all occurrences of a specific element from a list using a `for` loop."
   ]
  },
  {
   "cell_type": "code",
   "execution_count": 15,
   "id": "826637c8-7174-4cdc-8ec1-2ac6f28ce3af",
   "metadata": {},
   "outputs": [
    {
     "name": "stdout",
     "output_type": "stream",
     "text": [
      "updated list is: [3, 4, 5, 7, 6, 12, 8, 5, 9, 10, 12]\n"
     ]
    }
   ],
   "source": [
    "li = [2,3,4,5,7,2,6,2,12,2,8,5,9,10,12]\n",
    "ele = 2\n",
    "for i in li:\n",
    "    if(i==ele):\n",
    "       li.remove(i)\n",
    "print(\"updated list is:\",li)"
   ]
  },
  {
   "cell_type": "markdown",
   "id": "42db808f-10f9-4ef0-bbef-5332be78d65c",
   "metadata": {},
   "source": [
    "### 16. Develop a program that generates a multiplication table for numbers from 1 to 5 using a nested `for` loop."
   ]
  },
  {
   "cell_type": "code",
   "execution_count": 16,
   "id": "575ad184-d5aa-4f4f-817c-a26fee9f156f",
   "metadata": {},
   "outputs": [
    {
     "name": "stdout",
     "output_type": "stream",
     "text": [
      "mul table of 1 is: 1 2 3 4 5 6 7 8 9 10 \n",
      "mul table of 2 is: 2 4 6 8 10 12 14 16 18 20 \n",
      "mul table of 3 is: 3 6 9 12 15 18 21 24 27 30 \n",
      "mul table of 4 is: 4 8 12 16 20 24 28 32 36 40 \n",
      "mul table of 5 is: 5 10 15 20 25 30 35 40 45 50 \n"
     ]
    }
   ],
   "source": [
    "for i in range(1,6):\n",
    "    print(\"mul table of\",i,\"is: \",end='')\n",
    "    for j in range(1,11):\n",
    "        print(i*j,end=' ')\n",
    "    print()"
   ]
  },
  {
   "cell_type": "markdown",
   "id": "8fdf8f07-0d99-408a-b85f-2985d45fd30e",
   "metadata": {},
   "source": [
    "### 17. Write a program that converts a list of Fahrenheit temperatures to Celsius using a `for` loop."
   ]
  },
  {
   "cell_type": "code",
   "execution_count": 17,
   "id": "f8b3cf7c-15da-4b20-8cd4-254cea113c11",
   "metadata": {},
   "outputs": [
    {
     "name": "stdout",
     "output_type": "stream",
     "text": [
      "list of temperature in celcius is:  [1.1111111111111112, -1.1111111111111112, 2.7777777777777777, -5.555555555555555, -7.777777777777778, 12.777777777777779, 6.111111111111111, 2.7777777777777777]\n"
     ]
    }
   ],
   "source": [
    "fahr = [34,30,37,22,18,55,43,37]\n",
    "celc = []\n",
    "for i in fahr:\n",
    "    celc.append((i-32)*5/9)\n",
    "print(\"list of temperature in celcius is: \",celc)"
   ]
  },
  {
   "cell_type": "markdown",
   "id": "9ec87d8b-4786-4d74-8584-63d394b1af8e",
   "metadata": {},
   "source": [
    "### 18. Create a program to print the common elements from two lists using a `for` loop."
   ]
  },
  {
   "cell_type": "code",
   "execution_count": 18,
   "id": "8e78801d-8343-4d51-b5bf-b2063359b38d",
   "metadata": {},
   "outputs": [
    {
     "name": "stdout",
     "output_type": "stream",
     "text": [
      "common elements are: [3, 7, 6, 5, 8, 12, 32, 20]\n"
     ]
    }
   ],
   "source": [
    "list1 = [3,7,6,5,8,9,12,15,32,20,34,40]\n",
    "list2 = [4,3,5,6,7,2,8,22,5,32,5,12,20]\n",
    "common = []\n",
    "for i in list1:\n",
    "    if i in list2:\n",
    "        common.append(i)\n",
    "print(\"common elements are:\",common)"
   ]
  },
  {
   "cell_type": "markdown",
   "id": "da96dcbe-bdf4-47cd-8952-f64c57577136",
   "metadata": {},
   "source": [
    "### 19. Develop a program that prints the pattern of right-angled triangles using a `for` loop. Use ‘*’ to draw the pattern\n"
   ]
  },
  {
   "cell_type": "code",
   "execution_count": 19,
   "id": "305e2588-87ac-48ee-9134-cfdbdc742343",
   "metadata": {},
   "outputs": [
    {
     "name": "stdout",
     "output_type": "stream",
     "text": [
      "*\n",
      "**\n",
      "***\n",
      "****\n",
      "*****\n",
      "******\n",
      "*******\n"
     ]
    }
   ],
   "source": [
    "#printing a right angled triangle using *\n",
    "num = 7\n",
    "for i in range(0,num):\n",
    "    for j in range(0,i+1):\n",
    "        print(\"*\",end=\"\")\n",
    "    print()"
   ]
  },
  {
   "cell_type": "markdown",
   "id": "37fa7f79-4873-482d-a913-ded8467d38c1",
   "metadata": {},
   "source": [
    "### 20. Write a program to find the greatest common divisor (GCD) of two numbers using a `for` loop."
   ]
  },
  {
   "cell_type": "code",
   "execution_count": 20,
   "id": "ff1fd9d9-985f-4bee-97c7-6de358e29b7f",
   "metadata": {},
   "outputs": [
    {
     "name": "stdout",
     "output_type": "stream",
     "text": [
      "GCD of 22 and 6 is: 2\n"
     ]
    }
   ],
   "source": [
    "num1 = 22\n",
    "num2 = 6\n",
    "small = min(num1,num2)\n",
    "for i in range(1,small+1):\n",
    "    if (num1%i == 0) and (num2%i == 0):\n",
    "        gcd = i\n",
    "print(\"GCD of\",num1,\"and\",num2,\"is:\",gcd)"
   ]
  },
  {
   "cell_type": "markdown",
   "id": "dfc247d7-7561-4605-87a6-f0ab4a63e69d",
   "metadata": {},
   "source": [
    "### 21. Create a program that calculates the sum of the digits of numbers in a list using a list comprehension."
   ]
  },
  {
   "cell_type": "code",
   "execution_count": 12,
   "id": "0a2f78d7-f642-4634-be45-1b370299865e",
   "metadata": {},
   "outputs": [
    {
     "name": "stdout",
     "output_type": "stream",
     "text": [
      "sum of digit of number in list is: [9, 15, 6, 7, 6, 7]\n"
     ]
    }
   ],
   "source": [
    "num_list = [234,546,231,412,312,601]\n",
    "result = [sum(int(digit) for digit in str(num)) for num in num_list]\n",
    "print(\"sum of digit of number in list is:\",result)"
   ]
  },
  {
   "cell_type": "markdown",
   "id": "dc5257fe-a249-422d-9dc0-e0acf5f957c6",
   "metadata": {},
   "source": [
    "### 22. Write a program to find the prime factors of a given number using a `for` loop and list comprehension."
   ]
  },
  {
   "cell_type": "code",
   "execution_count": 24,
   "id": "4c238c3b-5d00-45f6-b1b2-48e48df412f3",
   "metadata": {},
   "outputs": [
    {
     "name": "stdout",
     "output_type": "stream",
     "text": [
      "[1, 2, 5, 7]\n"
     ]
    }
   ],
   "source": [
    "number = 1120\n",
    "prime_factor = [factor for factor in range(1,number+1) if (number%factor == 0) and all(factor % i != 0 for i in range(2,int(factor**0.5) +1))]\n",
    "print(prime_factor)"
   ]
  },
  {
   "cell_type": "markdown",
   "id": "8a4d5c94-b65e-4baa-8f46-60998807fe31",
   "metadata": {},
   "source": [
    "### 23. Develop a program that extracts unique elements from a list and stores them in a new list using a list comprehension."
   ]
  },
  {
   "cell_type": "code",
   "execution_count": 23,
   "id": "da667eeb-68f9-421c-8569-5385ad99d5b9",
   "metadata": {},
   "outputs": [
    {
     "name": "stdout",
     "output_type": "stream",
     "text": [
      "Original List: [1, 2, 2, 3, 4, 4, 5, 6, 6, 7]\n",
      "Unique Numbers: [1, 2, 3, 4, 5, 6, 7]\n"
     ]
    }
   ],
   "source": [
    "ori_list = [1, 2, 2, 3, 4, 4, 5, 6, 6, 7]\n",
    "\n",
    "unique_numbers = list(set(number for number in ori_list))\n",
    "\n",
    "print(\"Original List:\", ori_list)\n",
    "print(\"Unique Numbers:\", unique_numbers)"
   ]
  },
  {
   "cell_type": "markdown",
   "id": "69ccc9f9-6f61-4a6c-bc44-ee948078c26b",
   "metadata": {},
   "source": [
    "### 24. Create a program that generates a list of all palindromic numbers up to a specified limit using a list comprehension."
   ]
  },
  {
   "cell_type": "code",
   "execution_count": 5,
   "id": "4362f3e5-b733-4f88-bfab-5d6ccd12b76a",
   "metadata": {},
   "outputs": [
    {
     "name": "stdout",
     "output_type": "stream",
     "text": [
      "[0, 1, 2, 3, 4, 5, 6, 7, 8, 9, 11, 22, 33, 44, 55, 66, 77, 88, 99]\n"
     ]
    }
   ],
   "source": [
    "def is_palindrome(number):\n",
    "    if str(number) == (str(number))[::-1]:\n",
    "        return True\n",
    "    return False\n",
    "limit = 100\n",
    "all_palindrome = [ number for number in range (0,limit+1) if is_palindrome(number) == True]\n",
    "print(all_palindrome)"
   ]
  },
  {
   "cell_type": "markdown",
   "id": "b4120f07-cbf8-4288-8ecb-425ead7110c5",
   "metadata": {},
   "source": [
    "### 25. Write a program to flatten a nested list using list comprehension."
   ]
  },
  {
   "cell_type": "code",
   "execution_count": 10,
   "id": "79de6d88-a74e-43e4-94da-67b48d09924c",
   "metadata": {},
   "outputs": [
    {
     "name": "stdout",
     "output_type": "stream",
     "text": [
      "new list is: [2, 3, 1, 5, 4, 6, 2, 6, 4]\n"
     ]
    }
   ],
   "source": [
    "li = [[2,3,1],[5,4,6],[2,6,4]]\n",
    "new_li = []\n",
    "[new_li.extend(sub_li) for sub_li in li]\n",
    "print('new list is:',new_li)"
   ]
  },
  {
   "cell_type": "markdown",
   "id": "800cea04-91d3-4bee-81cb-128b94c8a23d",
   "metadata": {},
   "source": [
    "### 26. Develop a program that computes the sum of even and odd numbers in a list separately using list comprehension."
   ]
  },
  {
   "cell_type": "code",
   "execution_count": 15,
   "id": "92155b59-962d-4901-a2e9-dc94c9f4371d",
   "metadata": {},
   "outputs": [
    {
     "name": "stdout",
     "output_type": "stream",
     "text": [
      "sum of even number in list is : 200\n",
      "sum of odd number in list is : 215\n"
     ]
    }
   ],
   "source": [
    "li = [12,41,32,57,43,45,66,68,29,22]\n",
    "even_sum = sum([num for num in li if num%2 == 0])\n",
    "odd_sum = sum([num for num in li if num%2 != 0])\n",
    "print(\"sum of even number in list is :\",even_sum)\n",
    "print(\"sum of odd number in list is :\",odd_sum)"
   ]
  },
  {
   "cell_type": "markdown",
   "id": "2cfa17e5-6616-464e-a5e0-5c300582ce29",
   "metadata": {},
   "source": [
    "### 27. Create a program that generates a list of squares of odd numbers between 1 and 10 using list comprehension."
   ]
  },
  {
   "cell_type": "code",
   "execution_count": 16,
   "id": "ec7b191a-a097-4686-9b66-9853395b9104",
   "metadata": {},
   "outputs": [
    {
     "name": "stdout",
     "output_type": "stream",
     "text": [
      "[1, 9, 25, 49, 81]\n"
     ]
    }
   ],
   "source": [
    "sqaure_li = [ num**2 for num in range(1,11) if num%2 != 0]\n",
    "print(sqaure_li)"
   ]
  },
  {
   "cell_type": "markdown",
   "id": "4c313cb5-4344-4811-a88a-da0965475e7d",
   "metadata": {},
   "source": [
    "### 28. Write a program that combines two lists into a dictionary using list comprehension."
   ]
  },
  {
   "cell_type": "code",
   "execution_count": 18,
   "id": "a6b92906-bd3f-4c68-9fa0-941bb3fb9684",
   "metadata": {},
   "outputs": [
    {
     "name": "stdout",
     "output_type": "stream",
     "text": [
      "{1: 'hindi', 2: 'english', 3: 'maths', 4: 'science', 5: 'SST', 6: 'computer', 7: 'arts', 8: 'evs', 9: 'physical'}\n"
     ]
    }
   ],
   "source": [
    "list1 = [1,2,3,4,5,6,7,8,9]\n",
    "list2 = ['hindi','english','maths','science','SST','computer','arts','evs','physical']\n",
    "dict_ = { keyss:valuess for keyss,valuess in zip(list1,list2)}\n",
    "print(dict_)"
   ]
  },
  {
   "cell_type": "markdown",
   "id": "d899c841-926c-4e22-a020-f31a02a17265",
   "metadata": {},
   "source": [
    "### 29. Develop a program that extracts the vowels from a string and stores them in a list using list comprehension."
   ]
  },
  {
   "cell_type": "code",
   "execution_count": 19,
   "id": "91f5888d-d49f-473c-b541-026fb183c6f0",
   "metadata": {},
   "outputs": [
    {
     "name": "stdout",
     "output_type": "stream",
     "text": [
      "vowels in string is:- ['e', 'o', 'i', 'i', 'u', 'i', 'e', 'e']\n"
     ]
    }
   ],
   "source": [
    "string1 = \"hello it is sumit here\"\n",
    "vowels = [word for word in string1 if word in \"AEIOUaeiou\"]\n",
    "print(\"vowels in string is:-\",vowels)"
   ]
  },
  {
   "cell_type": "markdown",
   "id": "5d865a7b-8675-4564-85a5-3f6af08cbb40",
   "metadata": {},
   "source": [
    "### 30. Create a program that removes all non-numeric characters from a list of strings using list comprehension."
   ]
  },
  {
   "cell_type": "code",
   "execution_count": 33,
   "id": "b1b5ceff-6586-48e5-96a9-c36fa298b42c",
   "metadata": {},
   "outputs": [
    {
     "name": "stdout",
     "output_type": "stream",
     "text": [
      "['223', '', '234', '789', '67']\n"
     ]
    }
   ],
   "source": [
    "li = [\"223\",\"sumit\",\"dhfu234\",\"789\",\"hjh67hj\"]\n",
    "numeric = [''.join((char for char in string if char.isdigit())) for string in li]\n",
    "print(numeric)"
   ]
  },
  {
   "cell_type": "markdown",
   "id": "d1918134-f9fa-4f01-a25d-25352837eacd",
   "metadata": {},
   "source": [
    "### 31. Write a program to generate a list of prime numbers using the Sieve of Eratosthenes algorithm and list comprehension."
   ]
  },
  {
   "cell_type": "code",
   "execution_count": 39,
   "id": "debc2095-8e39-47e4-aacf-b436536dbb88",
   "metadata": {},
   "outputs": [
    {
     "name": "stdout",
     "output_type": "stream",
     "text": [
      "total prime number upto 50 is: [2, 3, 5, 7, 11, 13, 17, 19, 23, 29, 31, 37, 41, 43, 47]\n"
     ]
    }
   ],
   "source": [
    "primeNoUpto = 50\n",
    "list1 = [ i for i in range(2,primeNoUpto+1)]\n",
    "for num1 in list1:\n",
    "    for num2 in list1:\n",
    "        if num1!=num2 and num2%num1 == 0:\n",
    "            list1.remove(num2)\n",
    "print(\"total prime number upto\",primeNoUpto,\"is:\",list1)"
   ]
  },
  {
   "cell_type": "markdown",
   "id": "e1e04c22-2378-4a07-a843-7d0744a9315d",
   "metadata": {},
   "source": [
    "### 32. Create a program that generates a list of all Pythagorean triplets up to a specified limit using list comprehension."
   ]
  },
  {
   "cell_type": "code",
   "execution_count": 80,
   "id": "747d7d58-91e0-45b8-8d3a-0724e7e4714b",
   "metadata": {},
   "outputs": [
    {
     "name": "stdout",
     "output_type": "stream",
     "text": [
      "list of all Pythagorean triplets up to 50 is:-\n",
      " [(3, 4, 5), (5, 12, 13), (6, 8, 10), (7, 24, 25), (8, 15, 17), (9, 12, 15), (9, 40, 41), (10, 24, 26), (12, 16, 20), (12, 35, 37), (14, 48, 50), (15, 20, 25), (15, 36, 39), (16, 30, 34), (18, 24, 30), (20, 21, 29), (21, 28, 35), (24, 32, 40), (27, 36, 45), (30, 40, 50)]\n"
     ]
    }
   ],
   "source": [
    "limit = 50\n",
    "pytha = [\n",
    "    (a, b, c)\n",
    "    for a in range(1, limit + 1)\n",
    "    for b in range(a, limit + 1)\n",
    "    for c in range(b, limit + 1)\n",
    "    if a**2 + b**2 == c**2\n",
    "]\n",
    "print(\"list of all Pythagorean triplets up to\",limit,\"is:-\\n\",pytha)"
   ]
  },
  {
   "cell_type": "markdown",
   "id": "5ec6bef5-a0da-4a0a-b5e2-c757a09465d8",
   "metadata": {},
   "source": [
    "### 33. Develop a program that generates a list of all possible combinations of two lists using list comprehension."
   ]
  },
  {
   "cell_type": "code",
   "execution_count": 69,
   "id": "23dd5b21-6468-4806-a4cb-cda39f7cbe14",
   "metadata": {},
   "outputs": [
    {
     "name": "stdout",
     "output_type": "stream",
     "text": [
      "all combination of two list:- [(1, 'a'), (1, 'b'), (1, 'c'), (2, 'a'), (2, 'b'), (2, 'c'), (3, 'a'), (3, 'b'), (3, 'c')]\n"
     ]
    }
   ],
   "source": [
    "l1 = [1,2,3]\n",
    "l2 = ['a','b','c']\n",
    "combine = [(a,b) for a in l1 for b in l2]\n",
    "print(\"all combination of two list:-\",combine)"
   ]
  },
  {
   "cell_type": "markdown",
   "id": "74b91a56-9a84-42fe-84a7-ce85fc6230cb",
   "metadata": {},
   "source": [
    "### 34. Write a program that calculates the mean, median, and mode of a list of numbers using list comprehension."
   ]
  },
  {
   "cell_type": "code",
   "execution_count": 87,
   "id": "815d0722-29a3-4eef-b3c4-696b67cb6092",
   "metadata": {},
   "outputs": [
    {
     "name": "stdout",
     "output_type": "stream",
     "text": [
      "mean of list [23, 23, 23, 24, 32, 34, 42, 43, 45, 56, 67, 67, 76] is 42.69230769230769\n",
      "mean of list [23, 23, 23, 24, 32, 34, 42, 43, 45, 56, 67, 67, 76] is 42\n",
      "mean of list [23, 23, 23, 24, 32, 34, 42, 43, 45, 56, 67, 67, 76] is 23\n"
     ]
    }
   ],
   "source": [
    "value = [32,43,56,42,67,45,67,23,24,23,23,76,34]\n",
    "value.sort()\n",
    "length = len(value)\n",
    "mean = sum([ele for ele in value])/length\n",
    "median = (value[length//2] + value[length//2-1])/2 if length%2 == 0 else value[length//2]\n",
    "count_list = [ value.count(ele) for ele in value] \n",
    "mode = value[count_list.index(max(count_list))]\n",
    "print(f\"mean of list {value} is {mean}\")\n",
    "print(f\"mean of list {value} is {median}\")\n",
    "print(f\"mean of list {value} is {mode}\")"
   ]
  },
  {
   "cell_type": "markdown",
   "id": "6cd8d26c-c126-4eab-8b0b-5b0d1dafb852",
   "metadata": {},
   "source": [
    "### 35. Create a program that generates Pascal's triangle up to a specified number of rows using list comprehension."
   ]
  },
  {
   "cell_type": "code",
   "execution_count": 62,
   "id": "dfaec014-0f7a-4496-9aed-47e52c7f445d",
   "metadata": {},
   "outputs": [
    {
     "name": "stdout",
     "output_type": "stream",
     "text": [
      "    1    \n",
      "   1 1   \n",
      "  1 2 1  \n",
      " 1 3 3 1 \n",
      "1 4 6 4 1\n"
     ]
    }
   ],
   "source": [
    "def generate_pascals_triangle(num_rows):\n",
    "    triangle = [[1] * (i + 1) for i in range(num_rows)]\n",
    "    for i in range(num_rows):\n",
    "        for j in range(1, i):\n",
    "            triangle[i][j] = triangle[i-1][j-1] + triangle[i-1][j]\n",
    "    return triangle\n",
    "\n",
    "def print_pascals_triangle(triangle):\n",
    "    max_width = len(\" \".join(map(str, triangle[-1])))\n",
    "    for row in triangle:\n",
    "        print(\" \".join(map(str, row)).center(max_width))\n",
    "\n",
    "num_rows = 5\n",
    "pascals_triangle = generate_pascals_triangle(num_rows)\n",
    "print_pascals_triangle(pascals_triangle)\n"
   ]
  },
  {
   "cell_type": "markdown",
   "id": "ed9e13eb-677b-45a1-8bbf-ae82dc64b2fb",
   "metadata": {},
   "source": [
    "### 36. Develop a program that calculates the sum of the digits of a factorial of numbers from 1 to 5 using list comprehension."
   ]
  },
  {
   "cell_type": "code",
   "execution_count": 25,
   "id": "89e60db2-28c6-41a2-b075-524698839271",
   "metadata": {},
   "outputs": [
    {
     "name": "stdout",
     "output_type": "stream",
     "text": [
      " sum of the digits of a factorial of numbers from 1 to 5 [1, 2, 6, 6, 3]\n"
     ]
    }
   ],
   "source": [
    "import math\n",
    "num = 5\n",
    "sum_dig_fact = [sum(int(digit) for digit in str(num)) for num in  [math.factorial(i) for i in range(1,num+1)]]\n",
    "print(\" sum of the digits of a factorial of numbers from 1 to 5\",sum_dig_fact)"
   ]
  },
  {
   "cell_type": "markdown",
   "id": "aa4be79d-732d-478b-a7da-bf74ea1a2cc3",
   "metadata": {},
   "source": [
    "### 37. Write a program that finds the longest word in a sentence using list comprehension."
   ]
  },
  {
   "cell_type": "code",
   "execution_count": 48,
   "id": "669afea2-f484-4e54-b12f-ac31b201315d",
   "metadata": {},
   "outputs": [
    {
     "name": "stdout",
     "output_type": "stream",
     "text": [
      " longest word in a sentence:-  infront\n"
     ]
    }
   ],
   "source": [
    "sentence = \"hey it is sumit here infront of you all.\"\n",
    "len_word_inSentence = [len(word) for word in sentence.split()]\n",
    "longest_word = sentence.split()[len_word_inSentence.index(max(len_word_inSentence))]\n",
    "print(\" longest word in a sentence:- \",longest_word)"
   ]
  },
  {
   "cell_type": "markdown",
   "id": "11e3a234-7ad8-49b2-95de-0a397de557f2",
   "metadata": {},
   "source": [
    "### 38. Create a program that filters a list of strings to include only those with more than three vowels using list comprehension."
   ]
  },
  {
   "cell_type": "code",
   "execution_count": 53,
   "id": "cff5cbc3-693d-4bb9-8d87-91c3c06d825c",
   "metadata": {},
   "outputs": [
    {
     "name": "stdout",
     "output_type": "stream",
     "text": [
      "list of strings to include only those with more than three vowels:- ['heelloo', 'everyone', 'application']\n"
     ]
    }
   ],
   "source": [
    "list_string =[\"heelloo\",\"everyone\",\"myself\",\"sumit\",\"bachelor\",\"computer\",\"of\",\"application\"]\n",
    "def vow_str(strr):\n",
    "    count=0\n",
    "    for i in strr:\n",
    "        if i in \"AEIOUaeiou\":\n",
    "            count=count+1\n",
    "    return count\n",
    "filtered_string = [word for word in list_string if vow_str(word)>3]\n",
    "print(\"list of strings to include only those with more than three vowels:-\",filtered_string)"
   ]
  },
  {
   "cell_type": "markdown",
   "id": "854fb231-f74a-472c-b6d3-970b9029835d",
   "metadata": {},
   "source": [
    "### 39. Develop a program that calculates the sum of the digits of numbers from 1 to 1000 using list comprehension."
   ]
  },
  {
   "cell_type": "code",
   "execution_count": 56,
   "id": "8664a1ea-3d95-4bb3-84c9-1bf3022ce294",
   "metadata": {},
   "outputs": [
    {
     "name": "stdout",
     "output_type": "stream",
     "text": [
      "the sum of the digits of numbers from 1 to 1000:-   [1, 2, 3, 4, 5, 6, 7, 8, 9, 1, 2, 3, 4, 5, 6, 7, 8, 9, 10, 2, 3, 4, 5, 6, 7, 8, 9, 10, 11, 3, 4, 5, 6, 7, 8, 9, 10, 11, 12, 4, 5, 6, 7, 8, 9, 10, 11, 12, 13, 5, 6, 7, 8, 9, 10, 11, 12, 13, 14, 6, 7, 8, 9, 10, 11, 12, 13, 14, 15, 7, 8, 9, 10, 11, 12, 13, 14, 15, 16, 8, 9, 10, 11, 12, 13, 14, 15, 16, 17, 9, 10, 11, 12, 13, 14, 15, 16, 17, 18, 1, 2, 3, 4, 5, 6, 7, 8, 9, 10, 2, 3, 4, 5, 6, 7, 8, 9, 10, 11, 3, 4, 5, 6, 7, 8, 9, 10, 11, 12, 4, 5, 6, 7, 8, 9, 10, 11, 12, 13, 5, 6, 7, 8, 9, 10, 11, 12, 13, 14, 6, 7, 8, 9, 10, 11, 12, 13, 14, 15, 7, 8, 9, 10, 11, 12, 13, 14, 15, 16, 8, 9, 10, 11, 12, 13, 14, 15, 16, 17, 9, 10, 11, 12, 13, 14, 15, 16, 17, 18, 10, 11, 12, 13, 14, 15, 16, 17, 18, 19, 2, 3, 4, 5, 6, 7, 8, 9, 10, 11, 3, 4, 5, 6, 7, 8, 9, 10, 11, 12, 4, 5, 6, 7, 8, 9, 10, 11, 12, 13, 5, 6, 7, 8, 9, 10, 11, 12, 13, 14, 6, 7, 8, 9, 10, 11, 12, 13, 14, 15, 7, 8, 9, 10, 11, 12, 13, 14, 15, 16, 8, 9, 10, 11, 12, 13, 14, 15, 16, 17, 9, 10, 11, 12, 13, 14, 15, 16, 17, 18, 10, 11, 12, 13, 14, 15, 16, 17, 18, 19, 11, 12, 13, 14, 15, 16, 17, 18, 19, 20, 3, 4, 5, 6, 7, 8, 9, 10, 11, 12, 4, 5, 6, 7, 8, 9, 10, 11, 12, 13, 5, 6, 7, 8, 9, 10, 11, 12, 13, 14, 6, 7, 8, 9, 10, 11, 12, 13, 14, 15, 7, 8, 9, 10, 11, 12, 13, 14, 15, 16, 8, 9, 10, 11, 12, 13, 14, 15, 16, 17, 9, 10, 11, 12, 13, 14, 15, 16, 17, 18, 10, 11, 12, 13, 14, 15, 16, 17, 18, 19, 11, 12, 13, 14, 15, 16, 17, 18, 19, 20, 12, 13, 14, 15, 16, 17, 18, 19, 20, 21, 4, 5, 6, 7, 8, 9, 10, 11, 12, 13, 5, 6, 7, 8, 9, 10, 11, 12, 13, 14, 6, 7, 8, 9, 10, 11, 12, 13, 14, 15, 7, 8, 9, 10, 11, 12, 13, 14, 15, 16, 8, 9, 10, 11, 12, 13, 14, 15, 16, 17, 9, 10, 11, 12, 13, 14, 15, 16, 17, 18, 10, 11, 12, 13, 14, 15, 16, 17, 18, 19, 11, 12, 13, 14, 15, 16, 17, 18, 19, 20, 12, 13, 14, 15, 16, 17, 18, 19, 20, 21, 13, 14, 15, 16, 17, 18, 19, 20, 21, 22, 5, 6, 7, 8, 9, 10, 11, 12, 13, 14, 6, 7, 8, 9, 10, 11, 12, 13, 14, 15, 7, 8, 9, 10, 11, 12, 13, 14, 15, 16, 8, 9, 10, 11, 12, 13, 14, 15, 16, 17, 9, 10, 11, 12, 13, 14, 15, 16, 17, 18, 10, 11, 12, 13, 14, 15, 16, 17, 18, 19, 11, 12, 13, 14, 15, 16, 17, 18, 19, 20, 12, 13, 14, 15, 16, 17, 18, 19, 20, 21, 13, 14, 15, 16, 17, 18, 19, 20, 21, 22, 14, 15, 16, 17, 18, 19, 20, 21, 22, 23, 6, 7, 8, 9, 10, 11, 12, 13, 14, 15, 7, 8, 9, 10, 11, 12, 13, 14, 15, 16, 8, 9, 10, 11, 12, 13, 14, 15, 16, 17, 9, 10, 11, 12, 13, 14, 15, 16, 17, 18, 10, 11, 12, 13, 14, 15, 16, 17, 18, 19, 11, 12, 13, 14, 15, 16, 17, 18, 19, 20, 12, 13, 14, 15, 16, 17, 18, 19, 20, 21, 13, 14, 15, 16, 17, 18, 19, 20, 21, 22, 14, 15, 16, 17, 18, 19, 20, 21, 22, 23, 15, 16, 17, 18, 19, 20, 21, 22, 23, 24, 7, 8, 9, 10, 11, 12, 13, 14, 15, 16, 8, 9, 10, 11, 12, 13, 14, 15, 16, 17, 9, 10, 11, 12, 13, 14, 15, 16, 17, 18, 10, 11, 12, 13, 14, 15, 16, 17, 18, 19, 11, 12, 13, 14, 15, 16, 17, 18, 19, 20, 12, 13, 14, 15, 16, 17, 18, 19, 20, 21, 13, 14, 15, 16, 17, 18, 19, 20, 21, 22, 14, 15, 16, 17, 18, 19, 20, 21, 22, 23, 15, 16, 17, 18, 19, 20, 21, 22, 23, 24, 16, 17, 18, 19, 20, 21, 22, 23, 24, 25, 8, 9, 10, 11, 12, 13, 14, 15, 16, 17, 9, 10, 11, 12, 13, 14, 15, 16, 17, 18, 10, 11, 12, 13, 14, 15, 16, 17, 18, 19, 11, 12, 13, 14, 15, 16, 17, 18, 19, 20, 12, 13, 14, 15, 16, 17, 18, 19, 20, 21, 13, 14, 15, 16, 17, 18, 19, 20, 21, 22, 14, 15, 16, 17, 18, 19, 20, 21, 22, 23, 15, 16, 17, 18, 19, 20, 21, 22, 23, 24, 16, 17, 18, 19, 20, 21, 22, 23, 24, 25, 17, 18, 19, 20, 21, 22, 23, 24, 25, 26, 9, 10, 11, 12, 13, 14, 15, 16, 17, 18, 10, 11, 12, 13, 14, 15, 16, 17, 18, 19, 11, 12, 13, 14, 15, 16, 17, 18, 19, 20, 12, 13, 14, 15, 16, 17, 18, 19, 20, 21, 13, 14, 15, 16, 17, 18, 19, 20, 21, 22, 14, 15, 16, 17, 18, 19, 20, 21, 22, 23, 15, 16, 17, 18, 19, 20, 21, 22, 23, 24, 16, 17, 18, 19, 20, 21, 22, 23, 24, 25, 17, 18, 19, 20, 21, 22, 23, 24, 25, 26, 18, 19, 20, 21, 22, 23, 24, 25, 26, 27, 1]\n"
     ]
    }
   ],
   "source": [
    "sum_dig_num = [sum(int(digit) for digit in str(num)) for num in range(1,1001)]\n",
    "print(\"the sum of the digits of numbers from 1 to 1000:-  \",sum_dig_num)\n",
    "               "
   ]
  },
  {
   "cell_type": "markdown",
   "id": "de3b0b39-a520-470f-ade6-b4e97595d842",
   "metadata": {},
   "source": [
    "### 40. Write a program that generates a list of prime palindromic numbers using list comprehension."
   ]
  },
  {
   "cell_type": "code",
   "execution_count": 58,
   "id": "c848966a-e4e6-402e-8add-1eb0459e5125",
   "metadata": {},
   "outputs": [
    {
     "name": "stdout",
     "output_type": "stream",
     "text": [
      "list of prime palindromic numbers:- [2, 3, 5, 7, 11, 101, 131, 151, 181, 191, 313, 353, 373, 383, 727, 757, 787, 797, 919, 929]\n"
     ]
    }
   ],
   "source": [
    "primeupto = 1000\n",
    "def is_palindrome(number):\n",
    "    if str(number) == (str(number))[::-1]:\n",
    "        return True\n",
    "    return False\n",
    "list1 = [ i for i in range(2,primeupto+1)]\n",
    "for num1 in list1:\n",
    "    for num2 in list1:\n",
    "        if num1!=num2 and num2%num1 == 0:\n",
    "            list1.remove(num2)\n",
    "list_prime_palindrome = [num for num in list1 if is_palindrome(num)==True]\n",
    "print(\"list of prime palindromic numbers:-\",list_prime_palindrome)"
   ]
  },
  {
   "cell_type": "code",
   "execution_count": null,
   "id": "d9c22f8c-022b-4dd0-9a54-7500e3494e09",
   "metadata": {},
   "outputs": [],
   "source": []
  }
 ],
 "metadata": {
  "kernelspec": {
   "display_name": "Python 3 (ipykernel)",
   "language": "python",
   "name": "python3"
  },
  "language_info": {
   "codemirror_mode": {
    "name": "ipython",
    "version": 3
   },
   "file_extension": ".py",
   "mimetype": "text/x-python",
   "name": "python",
   "nbconvert_exporter": "python",
   "pygments_lexer": "ipython3",
   "version": "3.12.1"
  }
 },
 "nbformat": 4,
 "nbformat_minor": 5
}
